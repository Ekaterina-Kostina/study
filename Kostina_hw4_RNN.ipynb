{
  "nbformat": 4,
  "nbformat_minor": 0,
  "metadata": {
    "colab": {
      "provenance": [],
      "gpuType": "T4",
      "authorship_tag": "ABX9TyPENvFLZtgiEZE0gM/279jL",
      "include_colab_link": true
    },
    "kernelspec": {
      "name": "python3",
      "display_name": "Python 3"
    },
    "language_info": {
      "name": "python"
    },
    "accelerator": "GPU"
  },
  "cells": [
    {
      "cell_type": "markdown",
      "metadata": {
        "id": "view-in-github",
        "colab_type": "text"
      },
      "source": [
        "<a href=\"https://colab.research.google.com/github/Ekaterina-Kostina/study/blob/ML/Kostina_hw4_RNN.ipynb\" target=\"_parent\"><img src=\"https://colab.research.google.com/assets/colab-badge.svg\" alt=\"Open In Colab\"/></a>"
      ]
    },
    {
      "cell_type": "markdown",
      "source": [
        "### Предисловие\n",
        "При выполнении этой домашней работы я вдохновилась двумя вещами:\n",
        "1) тетрадкой на Kaggle с применением RNN для генерации текстов Тейлор Свифт (https://www.kaggle.com/code/modmari/taylor-swift-s-song-lyrics-generator)\n",
        "2) датасетом песее Эминема (https://www.kaggle.com/datasets/aditya2803/eminem-lyrics)\n",
        "\n",
        "Скомибинровав эти 2 вещи, я решила поэкспериментировать с генерацией строк для ИИ-Эминема...."
      ],
      "metadata": {
        "id": "NARggkV0m_Et"
      }
    },
    {
      "cell_type": "markdown",
      "source": [
        "### Сбор данных: используйте готовый или соберите свой корпус в формате plain text для генерации текстов"
      ],
      "metadata": {
        "id": "90CBbqbGIgVr"
      }
    },
    {
      "cell_type": "code",
      "source": [
        "pip install dm-sonnet -q"
      ],
      "metadata": {
        "colab": {
          "base_uri": "https://localhost:8080/"
        },
        "id": "gjjFUb3LRYL2",
        "outputId": "669248ad-6ea6-4d3f-83dc-e17f3d1b98b0"
      },
      "execution_count": 1,
      "outputs": [
        {
          "output_type": "stream",
          "name": "stdout",
          "text": [
            "\u001b[?25l   \u001b[90m━━━━━━━━━━━━━━━━━━━━━━━━━━━━━━━━━━━━━━━━\u001b[0m \u001b[32m0.0/268.4 kB\u001b[0m \u001b[31m?\u001b[0m eta \u001b[36m-:--:--\u001b[0m\r\u001b[2K   \u001b[90m━━━━━━━━━━━━━━━━━━━━━━━━━━━━━━━━━━━━━━━━\u001b[0m \u001b[32m268.4/268.4 kB\u001b[0m \u001b[31m16.6 MB/s\u001b[0m eta \u001b[36m0:00:00\u001b[0m\n",
            "\u001b[?25h"
          ]
        }
      ]
    },
    {
      "cell_type": "code",
      "source": [
        "import tensorflow as tf\n",
        "from tensorflow.keras.models import Sequential\n",
        "from tensorflow.keras.layers import Embedding, LSTM, Dense\n",
        "from tensorflow.keras.preprocessing.text import Tokenizer\n",
        "from tensorflow.keras.preprocessing.sequence import pad_sequences\n",
        "from tensorflow.keras.utils import to_categorical\n",
        "import sonnet as snt\n",
        "import numpy as np\n",
        "import pandas as pd"
      ],
      "metadata": {
        "id": "2fWv3FOoK7lc"
      },
      "execution_count": 2,
      "outputs": []
    },
    {
      "cell_type": "code",
      "source": [
        "df = pd.read_csv(\"Eminem_Lyrics.csv\", sep='\\t', comment='#', encoding = \"ISO-8859-1\")\n",
        "df.head()"
      ],
      "metadata": {
        "colab": {
          "base_uri": "https://localhost:8080/",
          "height": 432
        },
        "id": "VKsd0q1hLfYC",
        "outputId": "b9646d61-0286-41ab-ab95-cbbaff820ca2"
      },
      "execution_count": 5,
      "outputs": [
        {
          "output_type": "execute_result",
          "data": {
            "text/plain": [
              "                        Album_Name       Song_Name  \\\n",
              "0  Music To Be Murdered By: Side B  Alfred (Intro)   \n",
              "1  Music To Be Murdered By: Side B     Black Magic   \n",
              "2  Music To Be Murdered By: Side B  Alfreds Theme   \n",
              "3  Music To Be Murdered By: Side B       Tone Deaf   \n",
              "4  Music To Be Murdered By: Side B  Book of Rhymes   \n",
              "\n",
              "                                              Lyrics  \\\n",
              "0  [Intro: Alfred Hitchcock]\\nThus far, this albu...   \n",
              "1  [Chorus: Skylar Grey & Eminem]\\nBlack magic, n...   \n",
              "2  [Verse 1]\\nBefore I check the mic (Check, chec...   \n",
              "3  [Intro]\\nYeah, I'm sorry (Huh?)\\nWhat did you ...   \n",
              "4  [Intro]\\nI don't smile, I don't frown, get too...   \n",
              "\n",
              "                                           Album_URL   Views  \\\n",
              "0  https://genius.com/albums/Eminem/Music-to-be-m...   24.3K   \n",
              "1  https://genius.com/albums/Eminem/Music-to-be-m...  180.6K   \n",
              "2  https://genius.com/albums/Eminem/Music-to-be-m...  285.6K   \n",
              "3  https://genius.com/albums/Eminem/Music-to-be-m...  210.9K   \n",
              "4  https://genius.com/albums/Eminem/Music-to-be-m...  193.3K   \n",
              "\n",
              "        Release_date Unnamed: 6  \n",
              "0  December 18, 2020        NaN  \n",
              "1  December 18, 2020        NaN  \n",
              "2  December 18, 2020        NaN  \n",
              "3  December 18, 2020        NaN  \n",
              "4  December 18, 2020        NaN  "
            ],
            "text/html": [
              "\n",
              "  <div id=\"df-fd15555d-7124-418b-872c-c7a1c2ba6036\" class=\"colab-df-container\">\n",
              "    <div>\n",
              "<style scoped>\n",
              "    .dataframe tbody tr th:only-of-type {\n",
              "        vertical-align: middle;\n",
              "    }\n",
              "\n",
              "    .dataframe tbody tr th {\n",
              "        vertical-align: top;\n",
              "    }\n",
              "\n",
              "    .dataframe thead th {\n",
              "        text-align: right;\n",
              "    }\n",
              "</style>\n",
              "<table border=\"1\" class=\"dataframe\">\n",
              "  <thead>\n",
              "    <tr style=\"text-align: right;\">\n",
              "      <th></th>\n",
              "      <th>Album_Name</th>\n",
              "      <th>Song_Name</th>\n",
              "      <th>Lyrics</th>\n",
              "      <th>Album_URL</th>\n",
              "      <th>Views</th>\n",
              "      <th>Release_date</th>\n",
              "      <th>Unnamed: 6</th>\n",
              "    </tr>\n",
              "  </thead>\n",
              "  <tbody>\n",
              "    <tr>\n",
              "      <th>0</th>\n",
              "      <td>Music To Be Murdered By: Side B</td>\n",
              "      <td>Alfred (Intro)</td>\n",
              "      <td>[Intro: Alfred Hitchcock]\\nThus far, this albu...</td>\n",
              "      <td>https://genius.com/albums/Eminem/Music-to-be-m...</td>\n",
              "      <td>24.3K</td>\n",
              "      <td>December 18, 2020</td>\n",
              "      <td>NaN</td>\n",
              "    </tr>\n",
              "    <tr>\n",
              "      <th>1</th>\n",
              "      <td>Music To Be Murdered By: Side B</td>\n",
              "      <td>Black Magic</td>\n",
              "      <td>[Chorus: Skylar Grey &amp; Eminem]\\nBlack magic, n...</td>\n",
              "      <td>https://genius.com/albums/Eminem/Music-to-be-m...</td>\n",
              "      <td>180.6K</td>\n",
              "      <td>December 18, 2020</td>\n",
              "      <td>NaN</td>\n",
              "    </tr>\n",
              "    <tr>\n",
              "      <th>2</th>\n",
              "      <td>Music To Be Murdered By: Side B</td>\n",
              "      <td>Alfreds Theme</td>\n",
              "      <td>[Verse 1]\\nBefore I check the mic (Check, chec...</td>\n",
              "      <td>https://genius.com/albums/Eminem/Music-to-be-m...</td>\n",
              "      <td>285.6K</td>\n",
              "      <td>December 18, 2020</td>\n",
              "      <td>NaN</td>\n",
              "    </tr>\n",
              "    <tr>\n",
              "      <th>3</th>\n",
              "      <td>Music To Be Murdered By: Side B</td>\n",
              "      <td>Tone Deaf</td>\n",
              "      <td>[Intro]\\nYeah, I'm sorry (Huh?)\\nWhat did you ...</td>\n",
              "      <td>https://genius.com/albums/Eminem/Music-to-be-m...</td>\n",
              "      <td>210.9K</td>\n",
              "      <td>December 18, 2020</td>\n",
              "      <td>NaN</td>\n",
              "    </tr>\n",
              "    <tr>\n",
              "      <th>4</th>\n",
              "      <td>Music To Be Murdered By: Side B</td>\n",
              "      <td>Book of Rhymes</td>\n",
              "      <td>[Intro]\\nI don't smile, I don't frown, get too...</td>\n",
              "      <td>https://genius.com/albums/Eminem/Music-to-be-m...</td>\n",
              "      <td>193.3K</td>\n",
              "      <td>December 18, 2020</td>\n",
              "      <td>NaN</td>\n",
              "    </tr>\n",
              "  </tbody>\n",
              "</table>\n",
              "</div>\n",
              "    <div class=\"colab-df-buttons\">\n",
              "\n",
              "  <div class=\"colab-df-container\">\n",
              "    <button class=\"colab-df-convert\" onclick=\"convertToInteractive('df-fd15555d-7124-418b-872c-c7a1c2ba6036')\"\n",
              "            title=\"Convert this dataframe to an interactive table.\"\n",
              "            style=\"display:none;\">\n",
              "\n",
              "  <svg xmlns=\"http://www.w3.org/2000/svg\" height=\"24px\" viewBox=\"0 -960 960 960\">\n",
              "    <path d=\"M120-120v-720h720v720H120Zm60-500h600v-160H180v160Zm220 220h160v-160H400v160Zm0 220h160v-160H400v160ZM180-400h160v-160H180v160Zm440 0h160v-160H620v160ZM180-180h160v-160H180v160Zm440 0h160v-160H620v160Z\"/>\n",
              "  </svg>\n",
              "    </button>\n",
              "\n",
              "  <style>\n",
              "    .colab-df-container {\n",
              "      display:flex;\n",
              "      gap: 12px;\n",
              "    }\n",
              "\n",
              "    .colab-df-convert {\n",
              "      background-color: #E8F0FE;\n",
              "      border: none;\n",
              "      border-radius: 50%;\n",
              "      cursor: pointer;\n",
              "      display: none;\n",
              "      fill: #1967D2;\n",
              "      height: 32px;\n",
              "      padding: 0 0 0 0;\n",
              "      width: 32px;\n",
              "    }\n",
              "\n",
              "    .colab-df-convert:hover {\n",
              "      background-color: #E2EBFA;\n",
              "      box-shadow: 0px 1px 2px rgba(60, 64, 67, 0.3), 0px 1px 3px 1px rgba(60, 64, 67, 0.15);\n",
              "      fill: #174EA6;\n",
              "    }\n",
              "\n",
              "    .colab-df-buttons div {\n",
              "      margin-bottom: 4px;\n",
              "    }\n",
              "\n",
              "    [theme=dark] .colab-df-convert {\n",
              "      background-color: #3B4455;\n",
              "      fill: #D2E3FC;\n",
              "    }\n",
              "\n",
              "    [theme=dark] .colab-df-convert:hover {\n",
              "      background-color: #434B5C;\n",
              "      box-shadow: 0px 1px 3px 1px rgba(0, 0, 0, 0.15);\n",
              "      filter: drop-shadow(0px 1px 2px rgba(0, 0, 0, 0.3));\n",
              "      fill: #FFFFFF;\n",
              "    }\n",
              "  </style>\n",
              "\n",
              "    <script>\n",
              "      const buttonEl =\n",
              "        document.querySelector('#df-fd15555d-7124-418b-872c-c7a1c2ba6036 button.colab-df-convert');\n",
              "      buttonEl.style.display =\n",
              "        google.colab.kernel.accessAllowed ? 'block' : 'none';\n",
              "\n",
              "      async function convertToInteractive(key) {\n",
              "        const element = document.querySelector('#df-fd15555d-7124-418b-872c-c7a1c2ba6036');\n",
              "        const dataTable =\n",
              "          await google.colab.kernel.invokeFunction('convertToInteractive',\n",
              "                                                    [key], {});\n",
              "        if (!dataTable) return;\n",
              "\n",
              "        const docLinkHtml = 'Like what you see? Visit the ' +\n",
              "          '<a target=\"_blank\" href=https://colab.research.google.com/notebooks/data_table.ipynb>data table notebook</a>'\n",
              "          + ' to learn more about interactive tables.';\n",
              "        element.innerHTML = '';\n",
              "        dataTable['output_type'] = 'display_data';\n",
              "        await google.colab.output.renderOutput(dataTable, element);\n",
              "        const docLink = document.createElement('div');\n",
              "        docLink.innerHTML = docLinkHtml;\n",
              "        element.appendChild(docLink);\n",
              "      }\n",
              "    </script>\n",
              "  </div>\n",
              "\n",
              "\n",
              "<div id=\"df-8ef7b0ee-3a81-4111-9392-3f58965ebad7\">\n",
              "  <button class=\"colab-df-quickchart\" onclick=\"quickchart('df-8ef7b0ee-3a81-4111-9392-3f58965ebad7')\"\n",
              "            title=\"Suggest charts\"\n",
              "            style=\"display:none;\">\n",
              "\n",
              "<svg xmlns=\"http://www.w3.org/2000/svg\" height=\"24px\"viewBox=\"0 0 24 24\"\n",
              "     width=\"24px\">\n",
              "    <g>\n",
              "        <path d=\"M19 3H5c-1.1 0-2 .9-2 2v14c0 1.1.9 2 2 2h14c1.1 0 2-.9 2-2V5c0-1.1-.9-2-2-2zM9 17H7v-7h2v7zm4 0h-2V7h2v10zm4 0h-2v-4h2v4z\"/>\n",
              "    </g>\n",
              "</svg>\n",
              "  </button>\n",
              "\n",
              "<style>\n",
              "  .colab-df-quickchart {\n",
              "      --bg-color: #E8F0FE;\n",
              "      --fill-color: #1967D2;\n",
              "      --hover-bg-color: #E2EBFA;\n",
              "      --hover-fill-color: #174EA6;\n",
              "      --disabled-fill-color: #AAA;\n",
              "      --disabled-bg-color: #DDD;\n",
              "  }\n",
              "\n",
              "  [theme=dark] .colab-df-quickchart {\n",
              "      --bg-color: #3B4455;\n",
              "      --fill-color: #D2E3FC;\n",
              "      --hover-bg-color: #434B5C;\n",
              "      --hover-fill-color: #FFFFFF;\n",
              "      --disabled-bg-color: #3B4455;\n",
              "      --disabled-fill-color: #666;\n",
              "  }\n",
              "\n",
              "  .colab-df-quickchart {\n",
              "    background-color: var(--bg-color);\n",
              "    border: none;\n",
              "    border-radius: 50%;\n",
              "    cursor: pointer;\n",
              "    display: none;\n",
              "    fill: var(--fill-color);\n",
              "    height: 32px;\n",
              "    padding: 0;\n",
              "    width: 32px;\n",
              "  }\n",
              "\n",
              "  .colab-df-quickchart:hover {\n",
              "    background-color: var(--hover-bg-color);\n",
              "    box-shadow: 0 1px 2px rgba(60, 64, 67, 0.3), 0 1px 3px 1px rgba(60, 64, 67, 0.15);\n",
              "    fill: var(--button-hover-fill-color);\n",
              "  }\n",
              "\n",
              "  .colab-df-quickchart-complete:disabled,\n",
              "  .colab-df-quickchart-complete:disabled:hover {\n",
              "    background-color: var(--disabled-bg-color);\n",
              "    fill: var(--disabled-fill-color);\n",
              "    box-shadow: none;\n",
              "  }\n",
              "\n",
              "  .colab-df-spinner {\n",
              "    border: 2px solid var(--fill-color);\n",
              "    border-color: transparent;\n",
              "    border-bottom-color: var(--fill-color);\n",
              "    animation:\n",
              "      spin 1s steps(1) infinite;\n",
              "  }\n",
              "\n",
              "  @keyframes spin {\n",
              "    0% {\n",
              "      border-color: transparent;\n",
              "      border-bottom-color: var(--fill-color);\n",
              "      border-left-color: var(--fill-color);\n",
              "    }\n",
              "    20% {\n",
              "      border-color: transparent;\n",
              "      border-left-color: var(--fill-color);\n",
              "      border-top-color: var(--fill-color);\n",
              "    }\n",
              "    30% {\n",
              "      border-color: transparent;\n",
              "      border-left-color: var(--fill-color);\n",
              "      border-top-color: var(--fill-color);\n",
              "      border-right-color: var(--fill-color);\n",
              "    }\n",
              "    40% {\n",
              "      border-color: transparent;\n",
              "      border-right-color: var(--fill-color);\n",
              "      border-top-color: var(--fill-color);\n",
              "    }\n",
              "    60% {\n",
              "      border-color: transparent;\n",
              "      border-right-color: var(--fill-color);\n",
              "    }\n",
              "    80% {\n",
              "      border-color: transparent;\n",
              "      border-right-color: var(--fill-color);\n",
              "      border-bottom-color: var(--fill-color);\n",
              "    }\n",
              "    90% {\n",
              "      border-color: transparent;\n",
              "      border-bottom-color: var(--fill-color);\n",
              "    }\n",
              "  }\n",
              "</style>\n",
              "\n",
              "  <script>\n",
              "    async function quickchart(key) {\n",
              "      const quickchartButtonEl =\n",
              "        document.querySelector('#' + key + ' button');\n",
              "      quickchartButtonEl.disabled = true;  // To prevent multiple clicks.\n",
              "      quickchartButtonEl.classList.add('colab-df-spinner');\n",
              "      try {\n",
              "        const charts = await google.colab.kernel.invokeFunction(\n",
              "            'suggestCharts', [key], {});\n",
              "      } catch (error) {\n",
              "        console.error('Error during call to suggestCharts:', error);\n",
              "      }\n",
              "      quickchartButtonEl.classList.remove('colab-df-spinner');\n",
              "      quickchartButtonEl.classList.add('colab-df-quickchart-complete');\n",
              "    }\n",
              "    (() => {\n",
              "      let quickchartButtonEl =\n",
              "        document.querySelector('#df-8ef7b0ee-3a81-4111-9392-3f58965ebad7 button');\n",
              "      quickchartButtonEl.style.display =\n",
              "        google.colab.kernel.accessAllowed ? 'block' : 'none';\n",
              "    })();\n",
              "  </script>\n",
              "</div>\n",
              "\n",
              "    </div>\n",
              "  </div>\n"
            ],
            "application/vnd.google.colaboratory.intrinsic+json": {
              "type": "dataframe",
              "variable_name": "df",
              "summary": "{\n  \"name\": \"df\",\n  \"rows\": 348,\n  \"fields\": [\n    {\n      \"column\": \"Album_Name\",\n      \"properties\": {\n        \"dtype\": \"category\",\n        \"num_unique_values\": 18,\n        \"samples\": [\n          \"Music To Be Murdered By: Side B\",\n          \"The Slim Shady LP (Expanded Edition)\",\n          \"Curtain Call: The Hits\"\n        ],\n        \"semantic_type\": \"\",\n        \"description\": \"\"\n      }\n    },\n    {\n      \"column\": \"Song_Name\",\n      \"properties\": {\n        \"dtype\": \"string\",\n        \"num_unique_values\": 304,\n        \"samples\": [\n          \"Lose Yourself\",\n          \"Medicine Ball\",\n          \"Oh No\"\n        ],\n        \"semantic_type\": \"\",\n        \"description\": \"\"\n      }\n    },\n    {\n      \"column\": \"Lyrics\",\n      \"properties\": {\n        \"dtype\": \"string\",\n        \"num_unique_values\": 310,\n        \"samples\": [\n          \"[Intro: Busta Rhymes + Eminem]\\nYeah! Guess who it is!\\nAyo, Dre, I think they in trouble\\nWhoo!\\nScott Storch, why you have to do it like this to 'em?!\\nFeels like a new day!\\n\\n[Verse 1: Busta Rhymes]\\nListen, now every time I come\\nAnd I hit you niggas with shit regardless\\nYou get retarded and then niggas ain't got a clue\\nOn how the fuck I do what I do and say what I say\\nAnd spit what I spit you ain't never even gotta question who\\n\\u0091Cause you know that I'm the only nigga that can ever come\\nAnd spitefully turn the place in to a motherfuckin' zoo\\nThen I come and I spit c-crazy sh-sh-sh-shit\\nAnd m-m-m-make n-n-niggas do exactly what I want 'em to\\nFrom my point of view, instead of trying to step up\\nYou still trying to play catch up\\nAnd keep up with the way a nigga grew\\nThese niggas panic and freakin' get schizophrenic\\nAnd let they emotions out\\nAnd I doubt they can ever test my crew\\nTake a second, check it, I reckon my records are better than\\nWhatever record you recorded, that's why your shit is through (Whoo!)\\nYou fuckin idiot, I don't think you get it\\nI'm one of the greatest ever, period, every syllable is true\\n[Hook: Busta Rhymes]\\nNow if you ain't blind\\nAnd you ain't handicapped in your vision\\nI think it's simple enough, think that it's really plain to see\\nNo matter how much you try\\nNo matter how much you make an effort\\nYou niggas can never ever really fuck with me\\n\\u0091Cause I'll hurt you, and I will learn you a thing or two\\nAnd I'll hurt you, and I'll finish your career for you, I'll\\u0085\\n\\n[Verse 2: Eminem]\\nShit on a mic and do do, my doo-doo, you do not have a fightin' chance to move you, you were covered in my poo-poo\\nSmothered in my manure while I spit saliva fluid do-do-do-do-do-do g-g-g-goobers are glued to you\\nYou don't have a clue as to what we're about to do, do you?\\nSo just sit back and watch somethin'\\nYou just gon' have an a-chew\\nYou just made me sneeze, I'm allergic to beats like these\\nPlease excuse me, my allergies are actin' up; thanks a lot, Scott\\nYou're probably wonderin' why there's thunder\\nAnd everyone is runnin' and duckin' up\\nUnder everything up on the block\\n\\u0091Cause Busta Bus and Flipmode just tip toed into the club\\nThen with Shady quietly trying not to start up a riot with Doc\\nBut since we all been spotted\\nWe might as well have a party\\nSo gather 'round everybody, come on, let's get our drink on\\nAnd you ain't got to do nothin' special for this occasion\\nJust reach in the closet, put something on, and get to the club\\n[Hook: Busta Rhymes]\\nNow if you ain't blind\\nAnd you ain't handicapped in your vision\\nI think it's simple enough, think that it's really plain to see\\nNo matter how much you try\\nNo matter how much you make an effort\\nYou niggas can never ever really fuck with me\\n\\u0091Cause I'll hurt you, and I will learn you a thing or two\\nAnd I'll hurt you, and I'll finish your career for you, I'll\\u0085\\n\\n[Verse 3: Busta Rhymes]\\nCatch you niggas and snatch you niggas\\nYou bunch of bumblin' fools\\nWho got me rumblin' dudes all the way down the block\\nKeep on stumblin' and jumblin' over their words and vowels\\nThrow in the towel, see you niggas is on the clock\\nAnd you runnin' out of time, see, I'm tired of all y'all\\nM-m-m-mumblin-m-m-mumblin', n-n-nigga I got it locked\\nEvery single time you put my shit in your CD player\\nAnd turn up the volume\\nYou bang your head, because your shit is not\\nI continue with crumblin' niggas and tumblin' niggas\\nYou struggle while I humble a nigga with the Glock\\nThen I watch you while I'll keep on fumblin'\\nWhile I got you tr-tr-tremblin'\\nBefore one of my niggas bust your head with a rock\\nBefore I start to do another thing\\nThen to make you crown me the king\\nWith such a butter swing, nigga, follow the flock\\nNow watch my brother bring all my diamonds to summer bling\\nWhile I'm climbing and fuck her\\nThen tell you bitch to get off my yacht\\n[Hook: Busta Rhymes]\\nNow if you ain't blind\\nAnd you ain't handicapped in your vision\\nI think it's simple enough, think that it's really plain to see\\nNo matter how much you try\\nNo matter how much you make an effort\\nYou niggas can never ever really fuck with me\\n\\u0091Cause I'll hurt you, and I will learn you a thing or two\\nAnd I'll hurt you, and I'll finish your career for you, I'll\\u0085\",\n          \"[Intro: Eminem]\\nYeah, you know what? (Loud Pack)\\nHaters are funny, man (Haha)\\nIt's like, you're gonna hate it no matter what it is\\nYet you still click on it (Zombie on the track), huh, yeah\\n\\n[Verse 1: Eminem]\\nI want you to change, but don't change (Yeah)\\nI want you to grow up, but don't age\\nI want the rage, but don't get too angry\\nI want the new, but old Shady\\nI want you to say what they won't say (Yeah)\\nJust don't go too far, but go cray\\nI want you to almost lose it, man\\nThey keep movin' the goalpost, don't they?\\nSo let's cut to the chase like OJ\\nIn his Bronco goin' up the roadway (Skrrt)\\nAnd get off my dick\\nIf I said my balls were yarn, you bitches would crochet (Haha)\\nAll I ever wanted's a rope chain\\nFrom the day I saw Cool J on Soul Train\\nNow I got that Kangol, two cables (Haha)\\nOne yellow and white gold plated\\nJust to let 'em know I made it\\n\\n[Chorus: MAJ & Eminem]\\nI told my dawgs we gon' get right in a year (Yeah), yeah, yeah\\nWhat did it cost? Now I get gone in the Lear (Woo), yeah, yeah\\nStill have all these demons comin' for my neck, yeah, yeah\\nI ain't never comin' down, yeah, yeah (Yo)\\n[Verse 2: Eminem]\\nThis pandemic got us in a recession\\nWe need to reopen America (What?)\\nBlack people dyin', they want equal rights\\nWhite people wanna get haircuts (Haha)\\nSome people protest, some people riot (What?)\\nBut we ain't never escapin' this virus (Nah)\\n'Til the cops that are racially biased (What?)\\nWe no longer enable these liars\\nYou get 'em on tape, they stick to a story\\nLike Spider-Man crawlin' upside of a wall and (Yeah)\\nSome are just unabiding as lawmen (Yeah)\\nLike Garrett Rolfe and like Derek Chauvin (Yup)\\nNo cap, still riding with Colin (Yup)\\nThough some people don't like me at all and (Yeah)\\nSome are like (Summer like) bees to flowers (Why?)\\n'Cause some people find me appalling (A pollen, haha)\\nOoh, I say a line, people are outraged (Oh no)\\nThe press slams me again (Yeah), people ain't having it nowadays\\nThen give an album that I put out in, like, 2000 you griped about praise\\nBut I wake up every day even more caked up than the makeup on your clown face\\nAnd I laid my foundation, and\\n\\n[Chorus: MAJ & Eminem]\\nI told my dawgs we gon' get right in a year, yeah, yeah\\nWhat did it cost? Now I get gone in the Lear, yeah, yeah\\nStill have all these demons comin' for my neck, yeah, yeah\\nI ain't never comin' down (Yeah), yeah, yeah\\n[Verse 3: Eminem]\\nI got a question (What?)\\nWhat rhymes with pariah?\\n(I don't know) Mm, tsk, uh, LEGO? (Oh shit)\\nYou just bit into the lit end of the wick\\nShit, I meant, shit end of the stick\\nI'm addicted to friction and mischief\\nIt's like your bitch's midriff, shit gets my dick stiff as a stick shift\\nDick as in Cheney, drip as in saline\\nThey bring my name up just to get ratings\\nIt's like trying to choose between Bizzy, Layzie, or Wish against Krayzie\\n'Cause I got a bone to pick and Slim Shady (Slim Shady)\\nWill thug (Thug) and harm any (Harmony)\\nWho attempt to diss Hailie (Hailie)\\nBitch, I will go in like it's raining\\nAnd I get canceled like once a day (Yeah)\\nWhy would I go? It's more fun to stay (Ah)\\nYou get me to leave? There's no fuckin' way\\nI got a better chance of fuckin' Young M.A. (Ooh)\\nOoh, sounds like I'm zoning\\nSo me sayin' I'm out, nice to know me\\nIs like askin' me where my shin is\\nIt's down right bologna (Below knee, haha)\\nUh, oh, but we can play hide the salami (Yeah)\\nIf your gal'd like to blow me (Yup)\\nMy wave is like a tsunami (Yup)\\nThese flows you're still tryna wrap your head around like you're a swami (Ha)\\nJust call me the mic kamikaze with Mike Zombie and I'ma just keep bombing (Woo)\\n'Cause the game is mine like an IED (Yeah)\\nIf they ever do cancel me like Live PD\\nSaid I'm takin' some of you with me if I'm leaving (Brr)\\nIt's time to murder you now, side B, B\\nI might be D to the fuckin' I-Z-Z\\nY from rappin' circles around these hoes\\nJust like girdles and every word from my mouth's so fire\\nI should be burnt to the ground\\nThere's a fuckin' circus in town, yeah, bitch, this verse finna clown, ICP\\nR. Kelly sex tape, I see pee (Look)\\nMy shit is intense (In tents) like tipis\\nYou gettin' wiped like TP\\nYou don't like me? You can bite my little white wee-wee\\nAnd I repeat, you can bite my little white wee-wee long as I L-I-V-E\\nAnd ever since my pre-teens, striped Lee jeans and Grandma Nan's little black and white TV (Yeah)\\nNow I'm so bougie that I stick out my pinkie every time I drink tea\\nUsed to wanna wife Sweet Tee (Sweet Tee)\\nUsed to rock wife beaters, now I let your wife beat me (Yeah)\\nSo you can eat shit, but I might be the shit\\nSo when I say \\\"Eat shit,\\\" I mean me\",\n          \"[Verse 1: Eminem]\\nSlim Shady, brain dead like Jim Brady\\nI'm a M-80, you little like that Kim lady\\nI'm buzzin', Dirty Dozen, naughty rotten rhymer\\nCursin' at you players worse than Marty Schottenheimer\\nYou wacker than the motherfucker you bit yo' style from\\nYou ain't gon' sell two copies if you press a double album\\nAdmit it, fuck it, while we comin' out in the open\\nI'm doin' acid, crack, smack, coke, and smokin' dope then\\nMy name is Marshall Mathers, I'm an alcoholic\\nI have a disease and they don't know what to call it\\nBetter hide your wallet 'cause I'm comin' up quick to strip yo' cash\\nBought a ticket to yo' concert just to come and whip yo' ass\\nBitch, I'm comin' out swingin' so fast it'll make yo' eyes spin\\nYou gettin' knocked the fuck out like Mike Tyson (Pshh)\\nThe proof is in the puddin', just ask DeShaun Holton\\nI'll slit yo' motherfuckin' throat worse than Ron Goldman\\n\\n[Chorus: Eminem]\\nSo when you see me on yo' block with two Glocks\\nScreamin', \\\"Fuck the world\\\" like 2Pac (I just don't give a fuck)\\nTalkin' that shit behind my back, dirty mackin'\\nTellin' your boys that I'm on crack (I just don't give a fuck)\\nSo put my tape back on the rack, go run and tell your friends\\nMy shit is wack (I just don't give a fuck)\\nBut see me on the street and duck\\n'Cause you gon' get stuck, stoned, and snuffed\\n('Cause I just don't give a fuck)\\n[Verse 2: Eminem]\\nI'm nicer than Pete, but I'm on a search to crush a milkbone\\nI'm everlastin', I melt vanilla ice like silicone\\nI'm ill enough to just straight up diss you for no reason\\nI'm colder than snow season when it's 20 below freezin'\\nFlavor with no seasoning, this is the sneak preview\\nI'll diss yo' magazine and still won't get a weak review\\nI'll make yo' freak leave you, smell the Folgers crystals\\nThis is lyrical combat, gentlemen, hold your pistols\\nBut I form like Voltron and blast you with my shoulder missiles\\nSlim Shady, M&M was the old initials (Bye-bye)\\nExtortion, snortin', supportin' abortion\\nPathological liar, blowin' shit outta proportion\\nThe looniest, zaniest, spontaneous, sporadic\\nImpulsive thinker, compulsive drinker, addict\\nHalf animal, half man\\nDumpin' yo' dead body inside of a fuckin' trash can\\nWith more holes than an afghan\\n\\n[Chorus: Eminem]\\nSo when you see me on yo' block with two Glocks\\nScreamin', \\\"Fuck the world\\\" like 2Pac (I just don't give a fuck)\\nTalkin' that shit behind my back, dirty mackin'\\nTellin' your boys that I'm on crack (I just don't give a fuck)\\nSo put my tape back on the rack, go run and tell your friends\\nMy shit is wack (I just don't give a fuck)\\nBut see me on the street and duck\\n'Cause you finna get stuck, stoned, and snuffed\\n('Cause I just don't give a fuck)\\n[Verse 3: Eminem]\\nSomebody let me out this limousine (Hey, let me out)\\nI'm a caged demon\\nOn stage screamin' like Rage Against the Machine\\nI'm convinced I'm a fiend\\nShootin' up while this record is spinnin'\\nClinically brain-dead, I don't need a second opinion\\nFuck droppin' a jewel, I'm flippin' a sacred treasure\\nI'll bite yo' motherfuckin' style just to make it fresher\\nI can't take the pressure, I'm sick of bitches\\nSick of naggin' bosses bitchin' while I'm washin' dishes\\nIn school, I never said much, too busy havin' a head rush\\nDoin' too much rush, had my face flushed like red blush\\nThen I went to Jim Beam, that's when my face grayed\\nWent to gym in eighth grade, raped the women's swim team\\nDon't take me for a joke, I'm no comedian\\nToo many mental problems got me snortin' coke and smokin' weed again\\nI'm goin' up over the curb, drivin' on the median\\nFinally made it home but I don't got the key to get in\\n\\n[Chorus: Eminem]\\nSo when you see me on yo' block with two Glocks\\nScreamin', \\\"Fuck the world\\\" like 2Pac (I just don't give a fuck)\\nTalkin' that shit behind my back, dirty mackin'\\nTellin' your boys that I'm on crack (I just don't give a fuck)\\nSo put my tape back on the rack, go run and tell your friends\\nMy shit is wack (I just don't give a fuck)\\nBut see me on the street and duck\\n'Cause you finna get stuck, stoned, and snuffed\\n('Cause I just don't give a fuck)\"\n        ],\n        \"semantic_type\": \"\",\n        \"description\": \"\"\n      }\n    },\n    {\n      \"column\": \"Album_URL\",\n      \"properties\": {\n        \"dtype\": \"category\",\n        \"num_unique_values\": 18,\n        \"samples\": [\n          \"https://genius.com/albums/Eminem/Music-to-be-murdered-by-side-b\",\n          \"https://genius.com/albums/Eminem/The-slim-shady-lp-expanded-edition\",\n          \"https://genius.com/albums/Eminem/Curtain-call-the-hits\"\n        ],\n        \"semantic_type\": \"\",\n        \"description\": \"\"\n      }\n    },\n    {\n      \"column\": \"Views\",\n      \"properties\": {\n        \"dtype\": \"string\",\n        \"num_unique_values\": 264,\n        \"samples\": [\n          \"901K\",\n          \"179.6K\",\n          \"256.8K\"\n        ],\n        \"semantic_type\": \"\",\n        \"description\": \"\"\n      }\n    },\n    {\n      \"column\": \"Release_date\",\n      \"properties\": {\n        \"dtype\": \"category\",\n        \"num_unique_values\": 86,\n        \"samples\": [\n          \"September 14, 2016\",\n          \"December 18, 2020\",\n          \"January 6, 2009\"\n        ],\n        \"semantic_type\": \"\",\n        \"description\": \"\"\n      }\n    },\n    {\n      \"column\": \"Unnamed: 6\",\n      \"properties\": {\n        \"dtype\": \"date\",\n        \"min\": \"2000-05-23 00:00:00\",\n        \"max\": \"2000-05-23 00:00:00\",\n        \"num_unique_values\": 1,\n        \"samples\": [\n          \"May 23, 2000\"\n        ],\n        \"semantic_type\": \"\",\n        \"description\": \"\"\n      }\n    }\n  ]\n}"
            }
          },
          "metadata": {},
          "execution_count": 5
        }
      ]
    },
    {
      "cell_type": "code",
      "source": [
        "df.describe()"
      ],
      "metadata": {
        "colab": {
          "base_uri": "https://localhost:8080/",
          "height": 282
        },
        "id": "bXCAm79ONg3z",
        "outputId": "079270b3-24b9-4261-b520-1eae5622ce64"
      },
      "execution_count": 6,
      "outputs": [
        {
          "output_type": "execute_result",
          "data": {
            "text/plain": [
              "              Album_Name Song_Name  \\\n",
              "count                348       348   \n",
              "unique                18       304   \n",
              "top     Unreleased Songs      Stan   \n",
              "freq                  39         3   \n",
              "\n",
              "                                                   Lyrics  \\\n",
              "count                                                 348   \n",
              "unique                                                310   \n",
              "top     [Intro: Mark Avery & Eddie]\\nMeet Eddie, 23 ye...   \n",
              "freq                                                    3   \n",
              "\n",
              "                                                Album_URL Views  \\\n",
              "count                                                 348   330   \n",
              "unique                                                 18   264   \n",
              "top     https://genius.com/albums/Eminem/Unreleased-songs  1.2M   \n",
              "freq                                                   39     7   \n",
              "\n",
              "             Release_date    Unnamed: 6  \n",
              "count                 340             1  \n",
              "unique                 86             1  \n",
              "top     February 23, 1999  May 23, 2000  \n",
              "freq                   23             1  "
            ],
            "text/html": [
              "\n",
              "  <div id=\"df-beaa5541-94bc-46cd-b01c-7a502946af49\" class=\"colab-df-container\">\n",
              "    <div>\n",
              "<style scoped>\n",
              "    .dataframe tbody tr th:only-of-type {\n",
              "        vertical-align: middle;\n",
              "    }\n",
              "\n",
              "    .dataframe tbody tr th {\n",
              "        vertical-align: top;\n",
              "    }\n",
              "\n",
              "    .dataframe thead th {\n",
              "        text-align: right;\n",
              "    }\n",
              "</style>\n",
              "<table border=\"1\" class=\"dataframe\">\n",
              "  <thead>\n",
              "    <tr style=\"text-align: right;\">\n",
              "      <th></th>\n",
              "      <th>Album_Name</th>\n",
              "      <th>Song_Name</th>\n",
              "      <th>Lyrics</th>\n",
              "      <th>Album_URL</th>\n",
              "      <th>Views</th>\n",
              "      <th>Release_date</th>\n",
              "      <th>Unnamed: 6</th>\n",
              "    </tr>\n",
              "  </thead>\n",
              "  <tbody>\n",
              "    <tr>\n",
              "      <th>count</th>\n",
              "      <td>348</td>\n",
              "      <td>348</td>\n",
              "      <td>348</td>\n",
              "      <td>348</td>\n",
              "      <td>330</td>\n",
              "      <td>340</td>\n",
              "      <td>1</td>\n",
              "    </tr>\n",
              "    <tr>\n",
              "      <th>unique</th>\n",
              "      <td>18</td>\n",
              "      <td>304</td>\n",
              "      <td>310</td>\n",
              "      <td>18</td>\n",
              "      <td>264</td>\n",
              "      <td>86</td>\n",
              "      <td>1</td>\n",
              "    </tr>\n",
              "    <tr>\n",
              "      <th>top</th>\n",
              "      <td>Unreleased Songs</td>\n",
              "      <td>Stan</td>\n",
              "      <td>[Intro: Mark Avery &amp; Eddie]\\nMeet Eddie, 23 ye...</td>\n",
              "      <td>https://genius.com/albums/Eminem/Unreleased-songs</td>\n",
              "      <td>1.2M</td>\n",
              "      <td>February 23, 1999</td>\n",
              "      <td>May 23, 2000</td>\n",
              "    </tr>\n",
              "    <tr>\n",
              "      <th>freq</th>\n",
              "      <td>39</td>\n",
              "      <td>3</td>\n",
              "      <td>3</td>\n",
              "      <td>39</td>\n",
              "      <td>7</td>\n",
              "      <td>23</td>\n",
              "      <td>1</td>\n",
              "    </tr>\n",
              "  </tbody>\n",
              "</table>\n",
              "</div>\n",
              "    <div class=\"colab-df-buttons\">\n",
              "\n",
              "  <div class=\"colab-df-container\">\n",
              "    <button class=\"colab-df-convert\" onclick=\"convertToInteractive('df-beaa5541-94bc-46cd-b01c-7a502946af49')\"\n",
              "            title=\"Convert this dataframe to an interactive table.\"\n",
              "            style=\"display:none;\">\n",
              "\n",
              "  <svg xmlns=\"http://www.w3.org/2000/svg\" height=\"24px\" viewBox=\"0 -960 960 960\">\n",
              "    <path d=\"M120-120v-720h720v720H120Zm60-500h600v-160H180v160Zm220 220h160v-160H400v160Zm0 220h160v-160H400v160ZM180-400h160v-160H180v160Zm440 0h160v-160H620v160ZM180-180h160v-160H180v160Zm440 0h160v-160H620v160Z\"/>\n",
              "  </svg>\n",
              "    </button>\n",
              "\n",
              "  <style>\n",
              "    .colab-df-container {\n",
              "      display:flex;\n",
              "      gap: 12px;\n",
              "    }\n",
              "\n",
              "    .colab-df-convert {\n",
              "      background-color: #E8F0FE;\n",
              "      border: none;\n",
              "      border-radius: 50%;\n",
              "      cursor: pointer;\n",
              "      display: none;\n",
              "      fill: #1967D2;\n",
              "      height: 32px;\n",
              "      padding: 0 0 0 0;\n",
              "      width: 32px;\n",
              "    }\n",
              "\n",
              "    .colab-df-convert:hover {\n",
              "      background-color: #E2EBFA;\n",
              "      box-shadow: 0px 1px 2px rgba(60, 64, 67, 0.3), 0px 1px 3px 1px rgba(60, 64, 67, 0.15);\n",
              "      fill: #174EA6;\n",
              "    }\n",
              "\n",
              "    .colab-df-buttons div {\n",
              "      margin-bottom: 4px;\n",
              "    }\n",
              "\n",
              "    [theme=dark] .colab-df-convert {\n",
              "      background-color: #3B4455;\n",
              "      fill: #D2E3FC;\n",
              "    }\n",
              "\n",
              "    [theme=dark] .colab-df-convert:hover {\n",
              "      background-color: #434B5C;\n",
              "      box-shadow: 0px 1px 3px 1px rgba(0, 0, 0, 0.15);\n",
              "      filter: drop-shadow(0px 1px 2px rgba(0, 0, 0, 0.3));\n",
              "      fill: #FFFFFF;\n",
              "    }\n",
              "  </style>\n",
              "\n",
              "    <script>\n",
              "      const buttonEl =\n",
              "        document.querySelector('#df-beaa5541-94bc-46cd-b01c-7a502946af49 button.colab-df-convert');\n",
              "      buttonEl.style.display =\n",
              "        google.colab.kernel.accessAllowed ? 'block' : 'none';\n",
              "\n",
              "      async function convertToInteractive(key) {\n",
              "        const element = document.querySelector('#df-beaa5541-94bc-46cd-b01c-7a502946af49');\n",
              "        const dataTable =\n",
              "          await google.colab.kernel.invokeFunction('convertToInteractive',\n",
              "                                                    [key], {});\n",
              "        if (!dataTable) return;\n",
              "\n",
              "        const docLinkHtml = 'Like what you see? Visit the ' +\n",
              "          '<a target=\"_blank\" href=https://colab.research.google.com/notebooks/data_table.ipynb>data table notebook</a>'\n",
              "          + ' to learn more about interactive tables.';\n",
              "        element.innerHTML = '';\n",
              "        dataTable['output_type'] = 'display_data';\n",
              "        await google.colab.output.renderOutput(dataTable, element);\n",
              "        const docLink = document.createElement('div');\n",
              "        docLink.innerHTML = docLinkHtml;\n",
              "        element.appendChild(docLink);\n",
              "      }\n",
              "    </script>\n",
              "  </div>\n",
              "\n",
              "\n",
              "<div id=\"df-fb3868fc-cb5c-440c-bc4e-7ffc15350dc2\">\n",
              "  <button class=\"colab-df-quickchart\" onclick=\"quickchart('df-fb3868fc-cb5c-440c-bc4e-7ffc15350dc2')\"\n",
              "            title=\"Suggest charts\"\n",
              "            style=\"display:none;\">\n",
              "\n",
              "<svg xmlns=\"http://www.w3.org/2000/svg\" height=\"24px\"viewBox=\"0 0 24 24\"\n",
              "     width=\"24px\">\n",
              "    <g>\n",
              "        <path d=\"M19 3H5c-1.1 0-2 .9-2 2v14c0 1.1.9 2 2 2h14c1.1 0 2-.9 2-2V5c0-1.1-.9-2-2-2zM9 17H7v-7h2v7zm4 0h-2V7h2v10zm4 0h-2v-4h2v4z\"/>\n",
              "    </g>\n",
              "</svg>\n",
              "  </button>\n",
              "\n",
              "<style>\n",
              "  .colab-df-quickchart {\n",
              "      --bg-color: #E8F0FE;\n",
              "      --fill-color: #1967D2;\n",
              "      --hover-bg-color: #E2EBFA;\n",
              "      --hover-fill-color: #174EA6;\n",
              "      --disabled-fill-color: #AAA;\n",
              "      --disabled-bg-color: #DDD;\n",
              "  }\n",
              "\n",
              "  [theme=dark] .colab-df-quickchart {\n",
              "      --bg-color: #3B4455;\n",
              "      --fill-color: #D2E3FC;\n",
              "      --hover-bg-color: #434B5C;\n",
              "      --hover-fill-color: #FFFFFF;\n",
              "      --disabled-bg-color: #3B4455;\n",
              "      --disabled-fill-color: #666;\n",
              "  }\n",
              "\n",
              "  .colab-df-quickchart {\n",
              "    background-color: var(--bg-color);\n",
              "    border: none;\n",
              "    border-radius: 50%;\n",
              "    cursor: pointer;\n",
              "    display: none;\n",
              "    fill: var(--fill-color);\n",
              "    height: 32px;\n",
              "    padding: 0;\n",
              "    width: 32px;\n",
              "  }\n",
              "\n",
              "  .colab-df-quickchart:hover {\n",
              "    background-color: var(--hover-bg-color);\n",
              "    box-shadow: 0 1px 2px rgba(60, 64, 67, 0.3), 0 1px 3px 1px rgba(60, 64, 67, 0.15);\n",
              "    fill: var(--button-hover-fill-color);\n",
              "  }\n",
              "\n",
              "  .colab-df-quickchart-complete:disabled,\n",
              "  .colab-df-quickchart-complete:disabled:hover {\n",
              "    background-color: var(--disabled-bg-color);\n",
              "    fill: var(--disabled-fill-color);\n",
              "    box-shadow: none;\n",
              "  }\n",
              "\n",
              "  .colab-df-spinner {\n",
              "    border: 2px solid var(--fill-color);\n",
              "    border-color: transparent;\n",
              "    border-bottom-color: var(--fill-color);\n",
              "    animation:\n",
              "      spin 1s steps(1) infinite;\n",
              "  }\n",
              "\n",
              "  @keyframes spin {\n",
              "    0% {\n",
              "      border-color: transparent;\n",
              "      border-bottom-color: var(--fill-color);\n",
              "      border-left-color: var(--fill-color);\n",
              "    }\n",
              "    20% {\n",
              "      border-color: transparent;\n",
              "      border-left-color: var(--fill-color);\n",
              "      border-top-color: var(--fill-color);\n",
              "    }\n",
              "    30% {\n",
              "      border-color: transparent;\n",
              "      border-left-color: var(--fill-color);\n",
              "      border-top-color: var(--fill-color);\n",
              "      border-right-color: var(--fill-color);\n",
              "    }\n",
              "    40% {\n",
              "      border-color: transparent;\n",
              "      border-right-color: var(--fill-color);\n",
              "      border-top-color: var(--fill-color);\n",
              "    }\n",
              "    60% {\n",
              "      border-color: transparent;\n",
              "      border-right-color: var(--fill-color);\n",
              "    }\n",
              "    80% {\n",
              "      border-color: transparent;\n",
              "      border-right-color: var(--fill-color);\n",
              "      border-bottom-color: var(--fill-color);\n",
              "    }\n",
              "    90% {\n",
              "      border-color: transparent;\n",
              "      border-bottom-color: var(--fill-color);\n",
              "    }\n",
              "  }\n",
              "</style>\n",
              "\n",
              "  <script>\n",
              "    async function quickchart(key) {\n",
              "      const quickchartButtonEl =\n",
              "        document.querySelector('#' + key + ' button');\n",
              "      quickchartButtonEl.disabled = true;  // To prevent multiple clicks.\n",
              "      quickchartButtonEl.classList.add('colab-df-spinner');\n",
              "      try {\n",
              "        const charts = await google.colab.kernel.invokeFunction(\n",
              "            'suggestCharts', [key], {});\n",
              "      } catch (error) {\n",
              "        console.error('Error during call to suggestCharts:', error);\n",
              "      }\n",
              "      quickchartButtonEl.classList.remove('colab-df-spinner');\n",
              "      quickchartButtonEl.classList.add('colab-df-quickchart-complete');\n",
              "    }\n",
              "    (() => {\n",
              "      let quickchartButtonEl =\n",
              "        document.querySelector('#df-fb3868fc-cb5c-440c-bc4e-7ffc15350dc2 button');\n",
              "      quickchartButtonEl.style.display =\n",
              "        google.colab.kernel.accessAllowed ? 'block' : 'none';\n",
              "    })();\n",
              "  </script>\n",
              "</div>\n",
              "\n",
              "    </div>\n",
              "  </div>\n"
            ],
            "application/vnd.google.colaboratory.intrinsic+json": {
              "type": "dataframe",
              "summary": "{\n  \"name\": \"df\",\n  \"rows\": 4,\n  \"fields\": [\n    {\n      \"column\": \"Album_Name\",\n      \"properties\": {\n        \"dtype\": \"string\",\n        \"num_unique_values\": 4,\n        \"samples\": [\n          18,\n          \"39\",\n          \"348\"\n        ],\n        \"semantic_type\": \"\",\n        \"description\": \"\"\n      }\n    },\n    {\n      \"column\": \"Song_Name\",\n      \"properties\": {\n        \"dtype\": \"string\",\n        \"num_unique_values\": 4,\n        \"samples\": [\n          304,\n          \"3\",\n          \"348\"\n        ],\n        \"semantic_type\": \"\",\n        \"description\": \"\"\n      }\n    },\n    {\n      \"column\": \"Lyrics\",\n      \"properties\": {\n        \"dtype\": \"string\",\n        \"num_unique_values\": 4,\n        \"samples\": [\n          310,\n          \"3\",\n          \"348\"\n        ],\n        \"semantic_type\": \"\",\n        \"description\": \"\"\n      }\n    },\n    {\n      \"column\": \"Album_URL\",\n      \"properties\": {\n        \"dtype\": \"string\",\n        \"num_unique_values\": 4,\n        \"samples\": [\n          18,\n          \"39\",\n          \"348\"\n        ],\n        \"semantic_type\": \"\",\n        \"description\": \"\"\n      }\n    },\n    {\n      \"column\": \"Views\",\n      \"properties\": {\n        \"dtype\": \"string\",\n        \"num_unique_values\": 4,\n        \"samples\": [\n          264,\n          \"7\",\n          \"330\"\n        ],\n        \"semantic_type\": \"\",\n        \"description\": \"\"\n      }\n    },\n    {\n      \"column\": \"Release_date\",\n      \"properties\": {\n        \"dtype\": \"date\",\n        \"min\": \"1970-01-01 00:00:00.000000023\",\n        \"max\": \"1999-02-23 00:00:00\",\n        \"num_unique_values\": 4,\n        \"samples\": [\n          86,\n          \"23\",\n          \"340\"\n        ],\n        \"semantic_type\": \"\",\n        \"description\": \"\"\n      }\n    },\n    {\n      \"column\": \"Unnamed: 6\",\n      \"properties\": {\n        \"dtype\": \"date\",\n        \"min\": \"1970-01-01 00:00:00.000000001\",\n        \"max\": \"2000-05-23 00:00:00\",\n        \"num_unique_values\": 2,\n        \"samples\": [\n          \"May 23, 2000\",\n          \"1\"\n        ],\n        \"semantic_type\": \"\",\n        \"description\": \"\"\n      }\n    }\n  ]\n}"
            }
          },
          "metadata": {},
          "execution_count": 6
        }
      ]
    },
    {
      "cell_type": "code",
      "source": [
        "lyrics_list = df['Lyrics'].tolist()\n",
        "lyrics_list[:3]"
      ],
      "metadata": {
        "colab": {
          "base_uri": "https://localhost:8080/"
        },
        "collapsed": true,
        "id": "VdJtv8GYOped",
        "outputId": "cbbfe996-25f2-4d2d-dd0b-da2f9bb5e665"
      },
      "execution_count": 7,
      "outputs": [
        {
          "output_type": "execute_result",
          "data": {
            "text/plain": [
              "['[Intro: Alfred Hitchcock]\\nThus far, this album has provided musical accompaniment to make your passing pleasant\\nOur next number is designed to drown out the sound of shovels\\nMusic to be buried by',\n",
              " '[Chorus: Skylar Grey & Eminem]\\nBlack magic, night walker (Yeah)\\nShe haunts me like no other (Feel like)\\nNobody told me (I don\\'t know) love is pain, oh (I know we just met)\\nBlack magic, dark water (But it\\'s like)\\nSurrounds me like no other (It\\'s like I know you better than anyone)\\nShe\\'s got my heart in chains\\n\\n[Verse 1: Eminem]\\nWe\\'re volatile, I can\\'t call it, though\\nIt\\'s like too large a peg, and too small a hole (Yeah)\\nBut she cheats and I catch her like the common cold (Sneeze)\\nLast time, I broke her collar bone, she\\'s intolerabl? (Yeah)\\nAll I know is that the sex is ph?nomenal, though\\nWe\\'re an unlikely pair (Yeah)\\nLike two different Nike Airs\\nBut I\\'m the same size she wears (Jordans)\\nSo I think we\\'re soulmates though (Yeah)\\nPeople don\\'t like us together, but like we care (Not me, not me)\\nYeah, but God strike me dead (Yeah)\\nShe knows that I would walk over hot coals\\nFor her with both of my feet bare (Yeah)\\nBut soon as I ask to hit (Ask to hit)\\nIt\\'s like she grabs a switch (Grabs a switch)\\nAnd turns me over her knee\\n\\'Cause my ass is whipped, yeah\\nAnd I got her back, but I\\'m spineless (Yeah)\\nSo when she stabs me in mine (Yeah)\\nIt\\'s like I just can\\'t feel the knife (What?)\\nAs she pokes, jabs it, and slices\\nOne minute, she\\'ll build me up (Up)\\nThe next, she\\'ll push me \\'round\\nProbably why she calls me \"dumbbell\"\\nShe lifts me up (Yeah), then puts me down (Huh)\\nBut I am under her thumbnail\\nI must be under her spell\\nIt\\'s like lookin\\' right into a gun barrel\\nBut none of these hoes can fuck with my girl\\nShe got that\\x97\\n[Chorus: Skylar Grey]\\nBlack magic, night walker\\nShe haunts me like no other\\nNobody told me love is pain, oh\\nBlack magic, dark water\\nSurrounds me like no other\\nShe\\'s got my heart in chains\\n\\n[Verse 2: Eminem]\\nWe wake up, break up, make up like Maybelline\\nNow she\\'s all made up like make-believe\\nProbably why she\\'s so fake to me\\nBut what the fuck\\'s it gonna take for me to make her see?\\nStrip her naked and take her keys\\nI been plannin\\' this day for weeks\\nBut I can\\'t tell if I\\'m \\'wake or \\'sleep\\nBut if this is actually happenin\\', \"sucker for pain\"\\nI\\'m stuck in this radioactive pattern\\nBut her by her motherfuckin\\' hair\\'s\\nAll I \"imagine draggin\\'\" (Dragon)\\nShe lunges, attacks, and scratches\\nBut I ain\\'t gonna stand for that shit\\nLike Kaep for the National Anthem\\nAs I stab, I\\'m laughin\\'\\nSo much for witchcraft and magic\\nAbracadabra that, bitch\\nNo turnin\\' back, I\\'m blackin\\'\\nAs I say farewell to the love of my life, I cut and I slice\\nI give her one last hug goodbye\\nWipe the blood off my butterfly knife\\nWatch her fuckin\\' die right in front of my eyes\\nBut in hindsight\\nThink I just wanted to see what her insides look like\\nAs I pop another five Vic\\'s\\nThat\\'s what this high\\'s like\\nLook down, there\\'s mud on my Nikes\\nShovel at my side, blood on my mic\\nNow wake up to Music To Be Murdered By like\\x97',\n",
              " '[Verse 1]\\nBefore I check the mic (Check, check, one, two)\\nI give it a extra swipe with a Lysol disinfectant wipe (Good evening)\\nCoronavirus in effect tonight\\nAntiseptics on deck, I got every type (Yeah)\\nI throw on my tux, then I (Yeah) give zero fucks, then I (Yeah)\\nAct like a jockstrap (Uh), cup my nuts, then I (Yeah)\\nCheck my ball hair (What?), make sure it\\'s all there (Yeah)\\nThen call the pallbearer (Yeah)\\nIt\\'s Music to B? Murdered By again, why stop?\\nOverkill lik? a pipe bomb in your pine box\\nYou\\'re all hitched to my cock (What?)\\nWent from punchin\\' a time clock to getting my shot\\nThen treated it like a cyclops\\nLike it\\'s the only one I (Only one eye) got\\nAnd my thoughts are like nines cocked (Chk-chk)\\nEvery line\\'s obscene, pervertedest mind, got the dirtiest rhyme stocked\\nThat\\'s why there\\'s parental advising (Visine) every time I drop (Eye drop)\\nSo throw on the theme to Alfred, I\\'ll channel him like the Panama Canal\\nBut how could I get up in arms about you saying trash is all that I put out?\\nBitch, I still get the bag when I\\'m putting garbage out\\nPlus, the potty mouth, I\\'m not about to wash it out\\nThe filthiest, so all this talk about I\\'m washed up, how preposterous\\nBecause if cleanliness is next to godliness\\nIt\\'s obvious that it\\'s impossible for me to be beside myself\\nAnd I\\'m \\'bout that capital like a proper noun\\nStill on top the pile\\nGot me sitting on numbers like a pocket dial\\nQuick to call you out on your bullshit\\nDon\\'t make me give that crock a dial\\n\\'Cause if I do it, see you later, alligator\\nMade it out the trailer, then I made a vow to cater to no one\\nSo hate, I\\'ve gained about the same amount that\\'s in my bank account\\nSo here\\'s some more shit for you to complain about, I say the\\nBars that never slack (Yeah), but always get attacked (Yeah)\\nI think they\\'re gunnin\\' for me, it\\'s startin\\' to feel like that\\nLike I\\'m marked, \\'cause when I rap, it\\'s like fallin\\' on my back in a tar pit\\n\\'Cause I have this target on my back (Ew, yuck)\\nBut if I ever double-crossed my fans and lost my Stans\\nI\\'d probably pop five Xans (Yeah)\\nGo in my garage, start my van\\nInhale as much carbon monoxide and exhaust I can\\nAnd doze off like *snores*\\nBut odds like that, with these thoughts I have\\'s like a giant getting squashed by ants\\nIf this is the test of time, I\\'d pass with flying colors\\nLike I just tossed my crayons (Tossed my crayons)\\nSmall, medium, and large size cans\\nSanitizers of all types, brands, cost nine bands\\nWhich is a small price for Lysol wipes and\\nIf my palms brush across my pants, I wash my hands\\n[Interlude]\\nShit, hold on, man\\nMotherfucker\\nHappy birthday to\\x97\\nFuck (Shh, quiet)\\n\\n[Verse 2]\\nI sit in silence in candlelit environments\\nSipping Wild Irish while getting violent\\nHomicidal visions when I\\'m spitting like this\\nBut really I\\'m just fulfilling my wish of killing rhymes\\nWhich is really childish and silly, but I\\'m really like this\\nI\\'m giving nightmares to Billie Eilish, I\\'m Diddy\\'s side bitch\\n\\n[Interlude]\\nWhat the fuck? Hold on, wait\\n\"I\\'m Diddy\\'s side bitch?\"\\nOh, I\\'m still east side, bitch\\n\\n[Verse 3]\\nSo \\'til the E-N-D, since EPMD\\nBeen givin\\' y\\'all the business (Yeah), D-R-E and me (Yup)\\nFrom the MMLP to MTBMB (Bitch)\\nBitch, it\\'s 2020, you still ain\\'t seein\\' me (Haha)\\nSo call me Santa Claus (Santa Claus)\\n\\'Cause at the present (Yeah), I out-rap \\'em all (Wrap \\'em all), I\\'m at the mall\\nGot your bitch in a bathroom stall, she could suck a basketball (Uh)\\nThrough a plastic straw (Yeah) with a fractured jaw (Damn)\\nMy dick is coat check (Ha), she wanna jack it off (Yeah)\\nI\\'m so far past the bar, I should practice law\\nMentally, I\\'m fucked up generally (General Lee) (Duh)\\nDukes of Hazzard car (Yeah), get the cadaver dogs\\n\\'Cause this is murder, murder and you\\'ll get murked, murked\\nThis music \\'bout to kill you, brr, brr (Brr)\\nThis chicken hit my phone, she said, \"Chirp, chirp\"\\nI said, \"Hut, hut, hike your skirt, skirt\"\\nThen go eat some worms, like the early bird\\nWhat the fuck is love? That\\'s a dirty word\\nMake me fall in it, there\\'s not a girl on Earth\\nOr any other planet, that\\'s a world of hurt\\nAnd I won\\'t buy a designer, \\'cause I don\\'t pander (Panda)\\nBut I\\'m back with so many knots, I need a chiropractor (Damn)\\nAnd this the final chapter (Why?), \\'cause I\\'m either frying after (Oh)\\nOr they gon\\' give me the needle (What?) like a vinyl scratcher (DJ)\\nYeah, I\\'m a card, like Hallmark\\nAt Walmart with a small cart buying wall art\\nAnd y\\'all who claim to be dogs aren\\'t\\nNo bite, like a tree, mostly just all bark, arf, arf\\nBut y\\'all pickin\\' the wrong tree, they call me dog because I\\'m barking (Bar king, bark, bark, barking)\\nAnd I got a lot, yeah, like where cars park\\nI\\'d describe it as bowling (Why?) ball hard (Ball\\'s hard)\\n\\'Cause the gutter\\'s where my mind is and when\\nIt\\'s in this frame, better split like the five and the ten\\n\\'Cause without a second to spare, I\\'m strikin\\' again\\nAnd when the beat is up my alley, I go right for the pens (Pins)\\nThe cypher begins\\nI\\'m talkin\\' smack like heroin, the mic\\'s a syringe\\nIt\\'s like a binge, Vicodin, I would liken to tin\\nMy mind is a recycling bin\\nThere\\'s no place I never been\\nBut I never budge and I never bend\\nYou hyperextend on me, this game\\'s life, it depends\\nLike adult diapers for men\\nEven when I\\'m rappin\\' less stellar\\nIt\\'s sour grapes, I still whine, I\\'m the best seller (Cellar)\\nLike a trey deuce, spray you as these shots penetrate through Dre\\'s booth\\nAnd go straight through your grapefruit, no escape route\\nSo you won\\'t leave here just scathed with a few scrape wounds\\nYour ass is grass and I am not gonna graze you\\nBut if bars were semi-mac\\'s, I\\'d be the Mad Hatter\\n\\'Cause I got so many caps, and you don\\'t have any straps (Nah)\\nSo you\\'d be a fitted (Yeah), so don\\'t act like you fittin\\' to snap\\nBitch, I\\'ll pee (P) on your head like a Phillies hat (Haha)\\nNo stoppin\\' me, you\\'re on a window shopping spree\\nBitch, you probably go broke at the Dollar Tree\\nYou never buy shit, all you ever cop\\'s a plea\\nYou\\'re always punkin\\' out like Halloween\\nYou rather opt to flee, you need to stop it, punk\\nHomie, you\\'re not a G, act like you got the pump\\nAnd you\\'re gonna cock the heat or get the Glock and dump\\nBitch, if you shot a tree, you wouldn\\'t pop the trunk\\nYeah, and I\\'m buddies with Alfred, we about to\\nDisembowel them, gut \\'em and scalp \\'em, yeah\\nThis is \\'bout to be the bloodiest outcome\\n\\'Cause we gon\\' make you bleed with every cut from this album\\nSo I\\'m choppin\\' \\'em up like Dahmer\\nThe nut job with the nuts that are bigger than Jabba the Hutt\\nI\\'m in the cut, and I\\'m out for the blood\\nIt\\'s lookin\\' like it\\'s that time of the month\\nCarvin\\' \\'em up with the bars while I sharpen \\'em up, dog and a mutt\\nI\\'m gonna fuck your mom in the butt with a thermometer, fuckin\\' phenomenal, but\\nY\\'all\\'ll get cut the fuck up like abdominals if you don\\'t vámonos\\nI keep droppin\\' like dominos, the formidable, abominable\\nStompin\\' a mudhole in my comp even if it\\'s off the top of the dome\\nSon \\'em, get the Coppertone, I\\'m at the Stop and Go coppin\\' the Mop and Glo\\nGot your stomach in knots like you swallowed rope\\nYou out of pocket though, like a motherfuckin\\' wallet stole\\n[Outro]\\nWait, why\\'d the beat cut off?\\nFuck it']"
            ]
          },
          "metadata": {},
          "execution_count": 7
        }
      ]
    },
    {
      "cell_type": "markdown",
      "source": [
        "### Предварительный анализ: чистка текста"
      ],
      "metadata": {
        "id": "Damy1dhpInr0"
      }
    },
    {
      "cell_type": "code",
      "source": [
        "import re\n",
        "\n",
        "cleaned_lyrics_list = []\n",
        "for song_lyrics in lyrics_list:\n",
        "    no_brackets = re.sub(r'\\[.*?\\]', '', song_lyrics)\n",
        "    no_slashes = re.sub(r'/', ' ', no_brackets)\n",
        "    lines = no_slashes.split('\\n')\n",
        "    lines = [line for line in lines if line.strip() != '']\n",
        "    cleaned_lyrics_list.extend(lines)\n",
        "\n",
        "cleaned_lyrics_list[:3]"
      ],
      "metadata": {
        "colab": {
          "base_uri": "https://localhost:8080/"
        },
        "id": "qjXrDHUUPrzB",
        "outputId": "b9c03fcd-f53f-46e1-aad8-62e9908dbea4"
      },
      "execution_count": 8,
      "outputs": [
        {
          "output_type": "execute_result",
          "data": {
            "text/plain": [
              "['Thus far, this album has provided musical accompaniment to make your passing pleasant',\n",
              " 'Our next number is designed to drown out the sound of shovels',\n",
              " 'Music to be buried by']"
            ]
          },
          "metadata": {},
          "execution_count": 8
        }
      ]
    },
    {
      "cell_type": "code",
      "source": [
        "len(cleaned_lyrics_list)"
      ],
      "metadata": {
        "colab": {
          "base_uri": "https://localhost:8080/"
        },
        "id": "qjl5EUuLP1GA",
        "outputId": "a80f5ddc-a4fa-4f38-edeb-211089239afb"
      },
      "execution_count": 9,
      "outputs": [
        {
          "output_type": "execute_result",
          "data": {
            "text/plain": [
              "29320"
            ]
          },
          "metadata": {},
          "execution_count": 9
        }
      ]
    },
    {
      "cell_type": "markdown",
      "source": [
        "Сократим датасет до 1/4, чтобы не тратить много ресурсов нашего Colab На обучение и не превысить лимиты..."
      ],
      "metadata": {
        "id": "0mYhnZ_xQEjx"
      }
    },
    {
      "cell_type": "code",
      "source": [
        "corp = cleaned_lyrics_list[:len(cleaned_lyrics_list)//4]"
      ],
      "metadata": {
        "id": "IZojZd97QBDW"
      },
      "execution_count": 10,
      "outputs": []
    },
    {
      "cell_type": "code",
      "source": [
        "corpus = [line.lower() for line in corp]\n",
        "\n",
        "print(f\"{len(corpus)} — lines of text\\n\")\n",
        "print(f\"The first 5 lines:\\n\")\n",
        "print(corpus[:20])"
      ],
      "metadata": {
        "colab": {
          "base_uri": "https://localhost:8080/"
        },
        "id": "iLvnAUGwQU7T",
        "outputId": "3a3760a1-9508-4db8-aacd-e92c32692ffb"
      },
      "execution_count": 11,
      "outputs": [
        {
          "output_type": "stream",
          "name": "stdout",
          "text": [
            "7330 — lines of text\n",
            "\n",
            "The first 5 lines:\n",
            "\n",
            "['thus far, this album has provided musical accompaniment to make your passing pleasant', 'our next number is designed to drown out the sound of shovels', 'music to be buried by', 'black magic, night walker (yeah)', 'she haunts me like no other (feel like)', \"nobody told me (i don't know) love is pain, oh (i know we just met)\", \"black magic, dark water (but it's like)\", \"surrounds me like no other (it's like i know you better than anyone)\", \"she's got my heart in chains\", \"we're volatile, i can't call it, though\", \"it's like too large a peg, and too small a hole (yeah)\", 'but she cheats and i catch her like the common cold (sneeze)', \"last time, i broke her collar bone, she's intolerabl? (yeah)\", 'all i know is that the sex is ph?nomenal, though', \"we're an unlikely pair (yeah)\", 'like two different nike airs', \"but i'm the same size she wears (jordans)\", \"so i think we're soulmates though (yeah)\", \"people don't like us together, but like we care (not me, not me)\", 'yeah, but god strike me dead (yeah)']\n"
          ]
        }
      ]
    },
    {
      "cell_type": "markdown",
      "source": [
        "### Обучение модели. Используйте образец из туториала по RNN"
      ],
      "metadata": {
        "id": "uUhL2_FVItWF"
      }
    },
    {
      "cell_type": "code",
      "source": [
        "# Инициализируем токенизатор\n",
        "tokenizer = Tokenizer(num_words=10000, oov_token=\"<OOV>\")\n",
        "tokenizer.fit_on_texts(corpus)\n",
        "sequences = tokenizer.texts_to_sequences(corpus)"
      ],
      "metadata": {
        "id": "uxzo1X56HXyB"
      },
      "execution_count": 12,
      "outputs": []
    },
    {
      "cell_type": "code",
      "source": [
        "tokenizer.texts_to_sequences([corpus[0]])[0]"
      ],
      "metadata": {
        "colab": {
          "base_uri": "https://localhost:8080/"
        },
        "id": "FToBPPWRQpcr",
        "outputId": "d174269f-b6c5-4815-f0e6-030328c8663c"
      },
      "execution_count": 13,
      "outputs": [
        {
          "output_type": "execute_result",
          "data": {
            "text/plain": [
              "[3612, 440, 18, 327, 314, 3613, 3614, 3615, 6, 109, 21, 3616, 3617]"
            ]
          },
          "metadata": {},
          "execution_count": 13
        }
      ]
    },
    {
      "cell_type": "code",
      "source": [
        "X = []\n",
        "y = []\n",
        "MAX_SAMPLES = 30000\n",
        "\n",
        "for seq in sequences:\n",
        "    for i in range(1, len(seq)):\n",
        "        X.append(seq[:i])\n",
        "        y.append(seq[i])\n",
        "        if len(X) >= MAX_SAMPLES:\n",
        "            break\n",
        "    if len(X) >= MAX_SAMPLES:\n",
        "        break"
      ],
      "metadata": {
        "id": "1CeTV4DId3bV"
      },
      "execution_count": 14,
      "outputs": []
    },
    {
      "cell_type": "code",
      "source": [
        "class RNN(snt.RNNCore):\n",
        "\n",
        "  # Конструктор класса, инициализирует параметры RNN\n",
        "  def __init__(self, hidden_size, activation=tf.tanh, name=\"vanilla_rnn\"):\n",
        "    \"\"\"\n",
        "    hidden_size: размер скрытого слоя\n",
        "    activation: тип функции активации\n",
        "    name: название модели\n",
        "    \"\"\"\n",
        "    # Вызываем конструктор родительского класса (snt.RNNCore)\n",
        "    super(RNN, self).__init__(name=name)\n",
        "\n",
        "    # Сохраняем размер скрытого состояния (количество нейронов в скрытом слое)\n",
        "    self._hidden_size = hidden_size\n",
        "\n",
        "    # Сохраняем функцию активации (по умолчанию используется гиперболический тангенс)\n",
        "    self._activation = activation"
      ],
      "metadata": {
        "id": "2jbQ0r7pQzn7"
      },
      "execution_count": 15,
      "outputs": []
    },
    {
      "cell_type": "code",
      "source": [
        "  def _build(self, input_, prev_state):\n",
        "    \"\"\"\n",
        "    input_: тензор с текущим x_t\n",
        "    prev_tate: тезор с h_{t-1}\n",
        "    \"\"\"\n",
        "    # Создаем линейный слой для преобразования входных данных в скрытое состояние\n",
        "    self._in_to_hidden_linear = snt.Linear(\n",
        "        self._hidden_size, name=\"in_to_hidden\")\n",
        "\n",
        "    # Создаем линейный слой для преобразования предыдущего скрытого состояния в новое\n",
        "    self._hidden_to_hidden_linear = snt.Linear(\n",
        "        self._hidden_size, name=\"hidden_to_hidden\")\n",
        "\n",
        "    # Применяем линейное преобразование к входным данным\n",
        "    in_to_hidden = self._in_to_hidden_linear(input_)\n",
        "\n",
        "    # Применяем линейное преобразование к предыдущему скрытому состоянию\n",
        "    hidden_to_hidden = self._hidden_to_hidden_linear(prev_state)\n",
        "\n",
        "    # Складываем результаты и применяем функцию активации\n",
        "    output = self._activation(in_to_hidden + hidden_to_hidden)\n",
        "\n",
        "    # Возвращаем выходное значение и новое скрытое состояние (они одинаковы в этой реализации)\n",
        "    return output, output\n",
        "\n",
        "  # Свойство state_size возвращает размерность скрытого состояния\n",
        "  @property\n",
        "  def state_size(self):\n",
        "    return tf.TensorShape([self._hidden_size])\n",
        "\n",
        "  # Свойство output_size возвращает размерность выходного значения\n",
        "  @property\n",
        "  def output_size(self):\n",
        "    return tf.TensorShape([self._hidden_size])"
      ],
      "metadata": {
        "id": "XNA1q4vDRkr3"
      },
      "execution_count": 16,
      "outputs": []
    },
    {
      "cell_type": "code",
      "source": [
        "max_sequence_len = max([len(x) for x in X])\n",
        "X = pad_sequences(X, maxlen=max_sequence_len, padding='pre')\n",
        "y = np.array(y)\n",
        "y = to_categorical(y, num_classes=len(tokenizer.word_index) + 1)"
      ],
      "metadata": {
        "id": "Gp9ZCYRBeJn8"
      },
      "execution_count": 20,
      "outputs": []
    },
    {
      "cell_type": "code",
      "source": [
        "# Создаем модель\n",
        "model = Sequential()\n",
        "\n",
        "# Добавляем слой Embedding\n",
        "model.add(Embedding(input_dim=len(tokenizer.word_index) + 1, output_dim=100, input_length=max_sequence_len))\n",
        "\n",
        "# Добавляем слой LSTM\n",
        "model.add(LSTM(150, return_sequences=False))\n",
        "\n",
        "# Добавляем полносвязный слой\n",
        "model.add(Dense(len(tokenizer.word_index) + 1, activation='softmax'))\n",
        "\n",
        "# Компилируем модель\n",
        "model.compile(loss='categorical_crossentropy', optimizer='adam', metrics=['accuracy'])\n",
        "\n",
        "# Выводим информацию о модели\n",
        "model.summary()"
      ],
      "metadata": {
        "colab": {
          "base_uri": "https://localhost:8080/",
          "height": 238
        },
        "id": "DZKyrnrKRz1m",
        "outputId": "2d5ae86b-84f2-4bc1-c2bc-f8611a02674a"
      },
      "execution_count": 21,
      "outputs": [
        {
          "output_type": "display_data",
          "data": {
            "text/plain": [
              "\u001b[1mModel: \"sequential_1\"\u001b[0m\n"
            ],
            "text/html": [
              "<pre style=\"white-space:pre;overflow-x:auto;line-height:normal;font-family:Menlo,'DejaVu Sans Mono',consolas,'Courier New',monospace\"><span style=\"font-weight: bold\">Model: \"sequential_1\"</span>\n",
              "</pre>\n"
            ]
          },
          "metadata": {}
        },
        {
          "output_type": "display_data",
          "data": {
            "text/plain": [
              "┏━━━━━━━━━━━━━━━━━━━━━━━━━━━━━━━━━┳━━━━━━━━━━━━━━━━━━━━━━━━┳━━━━━━━━━━━━━━━┓\n",
              "┃\u001b[1m \u001b[0m\u001b[1mLayer (type)                   \u001b[0m\u001b[1m \u001b[0m┃\u001b[1m \u001b[0m\u001b[1mOutput Shape          \u001b[0m\u001b[1m \u001b[0m┃\u001b[1m \u001b[0m\u001b[1m      Param #\u001b[0m\u001b[1m \u001b[0m┃\n",
              "┡━━━━━━━━━━━━━━━━━━━━━━━━━━━━━━━━━╇━━━━━━━━━━━━━━━━━━━━━━━━╇━━━━━━━━━━━━━━━┩\n",
              "│ embedding_1 (\u001b[38;5;33mEmbedding\u001b[0m)         │ ?                      │   \u001b[38;5;34m0\u001b[0m (unbuilt) │\n",
              "├─────────────────────────────────┼────────────────────────┼───────────────┤\n",
              "│ lstm_1 (\u001b[38;5;33mLSTM\u001b[0m)                   │ ?                      │   \u001b[38;5;34m0\u001b[0m (unbuilt) │\n",
              "├─────────────────────────────────┼────────────────────────┼───────────────┤\n",
              "│ dense_1 (\u001b[38;5;33mDense\u001b[0m)                 │ ?                      │   \u001b[38;5;34m0\u001b[0m (unbuilt) │\n",
              "└─────────────────────────────────┴────────────────────────┴───────────────┘\n"
            ],
            "text/html": [
              "<pre style=\"white-space:pre;overflow-x:auto;line-height:normal;font-family:Menlo,'DejaVu Sans Mono',consolas,'Courier New',monospace\">┏━━━━━━━━━━━━━━━━━━━━━━━━━━━━━━━━━┳━━━━━━━━━━━━━━━━━━━━━━━━┳━━━━━━━━━━━━━━━┓\n",
              "┃<span style=\"font-weight: bold\"> Layer (type)                    </span>┃<span style=\"font-weight: bold\"> Output Shape           </span>┃<span style=\"font-weight: bold\">       Param # </span>┃\n",
              "┡━━━━━━━━━━━━━━━━━━━━━━━━━━━━━━━━━╇━━━━━━━━━━━━━━━━━━━━━━━━╇━━━━━━━━━━━━━━━┩\n",
              "│ embedding_1 (<span style=\"color: #0087ff; text-decoration-color: #0087ff\">Embedding</span>)         │ ?                      │   <span style=\"color: #00af00; text-decoration-color: #00af00\">0</span> (unbuilt) │\n",
              "├─────────────────────────────────┼────────────────────────┼───────────────┤\n",
              "│ lstm_1 (<span style=\"color: #0087ff; text-decoration-color: #0087ff\">LSTM</span>)                   │ ?                      │   <span style=\"color: #00af00; text-decoration-color: #00af00\">0</span> (unbuilt) │\n",
              "├─────────────────────────────────┼────────────────────────┼───────────────┤\n",
              "│ dense_1 (<span style=\"color: #0087ff; text-decoration-color: #0087ff\">Dense</span>)                 │ ?                      │   <span style=\"color: #00af00; text-decoration-color: #00af00\">0</span> (unbuilt) │\n",
              "└─────────────────────────────────┴────────────────────────┴───────────────┘\n",
              "</pre>\n"
            ]
          },
          "metadata": {}
        },
        {
          "output_type": "display_data",
          "data": {
            "text/plain": [
              "\u001b[1m Total params: \u001b[0m\u001b[38;5;34m0\u001b[0m (0.00 B)\n"
            ],
            "text/html": [
              "<pre style=\"white-space:pre;overflow-x:auto;line-height:normal;font-family:Menlo,'DejaVu Sans Mono',consolas,'Courier New',monospace\"><span style=\"font-weight: bold\"> Total params: </span><span style=\"color: #00af00; text-decoration-color: #00af00\">0</span> (0.00 B)\n",
              "</pre>\n"
            ]
          },
          "metadata": {}
        },
        {
          "output_type": "display_data",
          "data": {
            "text/plain": [
              "\u001b[1m Trainable params: \u001b[0m\u001b[38;5;34m0\u001b[0m (0.00 B)\n"
            ],
            "text/html": [
              "<pre style=\"white-space:pre;overflow-x:auto;line-height:normal;font-family:Menlo,'DejaVu Sans Mono',consolas,'Courier New',monospace\"><span style=\"font-weight: bold\"> Trainable params: </span><span style=\"color: #00af00; text-decoration-color: #00af00\">0</span> (0.00 B)\n",
              "</pre>\n"
            ]
          },
          "metadata": {}
        },
        {
          "output_type": "display_data",
          "data": {
            "text/plain": [
              "\u001b[1m Non-trainable params: \u001b[0m\u001b[38;5;34m0\u001b[0m (0.00 B)\n"
            ],
            "text/html": [
              "<pre style=\"white-space:pre;overflow-x:auto;line-height:normal;font-family:Menlo,'DejaVu Sans Mono',consolas,'Courier New',monospace\"><span style=\"font-weight: bold\"> Non-trainable params: </span><span style=\"color: #00af00; text-decoration-color: #00af00\">0</span> (0.00 B)\n",
              "</pre>\n"
            ]
          },
          "metadata": {}
        }
      ]
    },
    {
      "cell_type": "code",
      "source": [
        "history = model.fit(X, y, epochs=50, batch_size=64, validation_split=0.2)"
      ],
      "metadata": {
        "colab": {
          "base_uri": "https://localhost:8080/"
        },
        "id": "d64U_Be4R-EP",
        "outputId": "186a68c1-ea6e-4abb-8fea-2fed75e06e92"
      },
      "execution_count": 22,
      "outputs": [
        {
          "output_type": "stream",
          "name": "stdout",
          "text": [
            "Epoch 1/50\n",
            "\u001b[1m375/375\u001b[0m \u001b[32m━━━━━━━━━━━━━━━━━━━━\u001b[0m\u001b[37m\u001b[0m \u001b[1m8s\u001b[0m 11ms/step - accuracy: 0.0294 - loss: 7.2595 - val_accuracy: 0.0365 - val_loss: 6.9435\n",
            "Epoch 2/50\n",
            "\u001b[1m375/375\u001b[0m \u001b[32m━━━━━━━━━━━━━━━━━━━━\u001b[0m\u001b[37m\u001b[0m \u001b[1m8s\u001b[0m 9ms/step - accuracy: 0.0389 - loss: 6.3699 - val_accuracy: 0.0372 - val_loss: 7.0385\n",
            "Epoch 3/50\n",
            "\u001b[1m375/375\u001b[0m \u001b[32m━━━━━━━━━━━━━━━━━━━━\u001b[0m\u001b[37m\u001b[0m \u001b[1m4s\u001b[0m 9ms/step - accuracy: 0.0454 - loss: 6.1506 - val_accuracy: 0.0408 - val_loss: 7.0125\n",
            "Epoch 4/50\n",
            "\u001b[1m375/375\u001b[0m \u001b[32m━━━━━━━━━━━━━━━━━━━━\u001b[0m\u001b[37m\u001b[0m \u001b[1m3s\u001b[0m 8ms/step - accuracy: 0.0532 - loss: 5.9720 - val_accuracy: 0.0498 - val_loss: 7.0087\n",
            "Epoch 5/50\n",
            "\u001b[1m375/375\u001b[0m \u001b[32m━━━━━━━━━━━━━━━━━━━━\u001b[0m\u001b[37m\u001b[0m \u001b[1m3s\u001b[0m 9ms/step - accuracy: 0.0743 - loss: 5.7421 - val_accuracy: 0.0643 - val_loss: 6.9601\n",
            "Epoch 6/50\n",
            "\u001b[1m375/375\u001b[0m \u001b[32m━━━━━━━━━━━━━━━━━━━━\u001b[0m\u001b[37m\u001b[0m \u001b[1m5s\u001b[0m 9ms/step - accuracy: 0.0933 - loss: 5.4867 - val_accuracy: 0.0730 - val_loss: 6.9639\n",
            "Epoch 7/50\n",
            "\u001b[1m375/375\u001b[0m \u001b[32m━━━━━━━━━━━━━━━━━━━━\u001b[0m\u001b[37m\u001b[0m \u001b[1m3s\u001b[0m 8ms/step - accuracy: 0.1158 - loss: 5.1988 - val_accuracy: 0.0717 - val_loss: 6.9943\n",
            "Epoch 8/50\n",
            "\u001b[1m375/375\u001b[0m \u001b[32m━━━━━━━━━━━━━━━━━━━━\u001b[0m\u001b[37m\u001b[0m \u001b[1m3s\u001b[0m 9ms/step - accuracy: 0.1365 - loss: 4.9845 - val_accuracy: 0.0668 - val_loss: 7.0719\n",
            "Epoch 9/50\n",
            "\u001b[1m375/375\u001b[0m \u001b[32m━━━━━━━━━━━━━━━━━━━━\u001b[0m\u001b[37m\u001b[0m \u001b[1m5s\u001b[0m 10ms/step - accuracy: 0.1533 - loss: 4.7540 - val_accuracy: 0.0737 - val_loss: 7.1461\n",
            "Epoch 10/50\n",
            "\u001b[1m375/375\u001b[0m \u001b[32m━━━━━━━━━━━━━━━━━━━━\u001b[0m\u001b[37m\u001b[0m \u001b[1m3s\u001b[0m 8ms/step - accuracy: 0.1730 - loss: 4.5359 - val_accuracy: 0.0762 - val_loss: 7.2330\n",
            "Epoch 11/50\n",
            "\u001b[1m375/375\u001b[0m \u001b[32m━━━━━━━━━━━━━━━━━━━━\u001b[0m\u001b[37m\u001b[0m \u001b[1m3s\u001b[0m 9ms/step - accuracy: 0.1881 - loss: 4.3404 - val_accuracy: 0.0857 - val_loss: 7.3096\n",
            "Epoch 12/50\n",
            "\u001b[1m375/375\u001b[0m \u001b[32m━━━━━━━━━━━━━━━━━━━━\u001b[0m\u001b[37m\u001b[0m \u001b[1m4s\u001b[0m 9ms/step - accuracy: 0.2095 - loss: 4.1576 - val_accuracy: 0.0862 - val_loss: 7.3679\n",
            "Epoch 13/50\n",
            "\u001b[1m375/375\u001b[0m \u001b[32m━━━━━━━━━━━━━━━━━━━━\u001b[0m\u001b[37m\u001b[0m \u001b[1m5s\u001b[0m 9ms/step - accuracy: 0.2385 - loss: 3.9491 - val_accuracy: 0.0998 - val_loss: 7.4306\n",
            "Epoch 14/50\n",
            "\u001b[1m375/375\u001b[0m \u001b[32m━━━━━━━━━━━━━━━━━━━━\u001b[0m\u001b[37m\u001b[0m \u001b[1m5s\u001b[0m 8ms/step - accuracy: 0.2592 - loss: 3.7806 - val_accuracy: 0.0940 - val_loss: 7.5120\n",
            "Epoch 15/50\n",
            "\u001b[1m375/375\u001b[0m \u001b[32m━━━━━━━━━━━━━━━━━━━━\u001b[0m\u001b[37m\u001b[0m \u001b[1m4s\u001b[0m 9ms/step - accuracy: 0.2792 - loss: 3.6210 - val_accuracy: 0.1047 - val_loss: 7.5798\n",
            "Epoch 16/50\n",
            "\u001b[1m375/375\u001b[0m \u001b[32m━━━━━━━━━━━━━━━━━━━━\u001b[0m\u001b[37m\u001b[0m \u001b[1m3s\u001b[0m 8ms/step - accuracy: 0.3085 - loss: 3.4473 - val_accuracy: 0.1072 - val_loss: 7.6303\n",
            "Epoch 17/50\n",
            "\u001b[1m375/375\u001b[0m \u001b[32m━━━━━━━━━━━━━━━━━━━━\u001b[0m\u001b[37m\u001b[0m \u001b[1m3s\u001b[0m 8ms/step - accuracy: 0.3426 - loss: 3.2613 - val_accuracy: 0.1128 - val_loss: 7.7047\n",
            "Epoch 18/50\n",
            "\u001b[1m375/375\u001b[0m \u001b[32m━━━━━━━━━━━━━━━━━━━━\u001b[0m\u001b[37m\u001b[0m \u001b[1m6s\u001b[0m 12ms/step - accuracy: 0.3798 - loss: 3.0950 - val_accuracy: 0.1197 - val_loss: 7.7893\n",
            "Epoch 19/50\n",
            "\u001b[1m375/375\u001b[0m \u001b[32m━━━━━━━━━━━━━━━━━━━━\u001b[0m\u001b[37m\u001b[0m \u001b[1m4s\u001b[0m 9ms/step - accuracy: 0.4000 - loss: 2.9520 - val_accuracy: 0.1160 - val_loss: 7.8781\n",
            "Epoch 20/50\n",
            "\u001b[1m375/375\u001b[0m \u001b[32m━━━━━━━━━━━━━━━━━━━━\u001b[0m\u001b[37m\u001b[0m \u001b[1m3s\u001b[0m 8ms/step - accuracy: 0.4375 - loss: 2.7896 - val_accuracy: 0.1213 - val_loss: 7.9390\n",
            "Epoch 21/50\n",
            "\u001b[1m375/375\u001b[0m \u001b[32m━━━━━━━━━━━━━━━━━━━━\u001b[0m\u001b[37m\u001b[0m \u001b[1m4s\u001b[0m 10ms/step - accuracy: 0.4553 - loss: 2.6705 - val_accuracy: 0.1278 - val_loss: 8.0215\n",
            "Epoch 22/50\n",
            "\u001b[1m375/375\u001b[0m \u001b[32m━━━━━━━━━━━━━━━━━━━━\u001b[0m\u001b[37m\u001b[0m \u001b[1m3s\u001b[0m 8ms/step - accuracy: 0.4802 - loss: 2.5545 - val_accuracy: 0.1253 - val_loss: 8.1225\n",
            "Epoch 23/50\n",
            "\u001b[1m375/375\u001b[0m \u001b[32m━━━━━━━━━━━━━━━━━━━━\u001b[0m\u001b[37m\u001b[0m \u001b[1m3s\u001b[0m 8ms/step - accuracy: 0.4966 - loss: 2.4447 - val_accuracy: 0.1292 - val_loss: 8.2070\n",
            "Epoch 24/50\n",
            "\u001b[1m375/375\u001b[0m \u001b[32m━━━━━━━━━━━━━━━━━━━━\u001b[0m\u001b[37m\u001b[0m \u001b[1m6s\u001b[0m 10ms/step - accuracy: 0.5117 - loss: 2.3660 - val_accuracy: 0.1303 - val_loss: 8.2931\n",
            "Epoch 25/50\n",
            "\u001b[1m375/375\u001b[0m \u001b[32m━━━━━━━━━━━━━━━━━━━━\u001b[0m\u001b[37m\u001b[0m \u001b[1m3s\u001b[0m 9ms/step - accuracy: 0.5369 - loss: 2.2504 - val_accuracy: 0.1292 - val_loss: 8.3792\n",
            "Epoch 26/50\n",
            "\u001b[1m375/375\u001b[0m \u001b[32m━━━━━━━━━━━━━━━━━━━━\u001b[0m\u001b[37m\u001b[0m \u001b[1m5s\u001b[0m 8ms/step - accuracy: 0.5500 - loss: 2.1524 - val_accuracy: 0.1332 - val_loss: 8.4637\n",
            "Epoch 27/50\n",
            "\u001b[1m375/375\u001b[0m \u001b[32m━━━━━━━━━━━━━━━━━━━━\u001b[0m\u001b[37m\u001b[0m \u001b[1m3s\u001b[0m 9ms/step - accuracy: 0.5633 - loss: 2.0733 - val_accuracy: 0.1360 - val_loss: 8.5788\n",
            "Epoch 28/50\n",
            "\u001b[1m375/375\u001b[0m \u001b[32m━━━━━━━━━━━━━━━━━━━━\u001b[0m\u001b[37m\u001b[0m \u001b[1m3s\u001b[0m 9ms/step - accuracy: 0.5815 - loss: 1.9872 - val_accuracy: 0.1375 - val_loss: 8.6462\n",
            "Epoch 29/50\n",
            "\u001b[1m375/375\u001b[0m \u001b[32m━━━━━━━━━━━━━━━━━━━━\u001b[0m\u001b[37m\u001b[0m \u001b[1m3s\u001b[0m 8ms/step - accuracy: 0.5960 - loss: 1.9321 - val_accuracy: 0.1402 - val_loss: 8.7294\n",
            "Epoch 30/50\n",
            "\u001b[1m375/375\u001b[0m \u001b[32m━━━━━━━━━━━━━━━━━━━━\u001b[0m\u001b[37m\u001b[0m \u001b[1m6s\u001b[0m 9ms/step - accuracy: 0.6104 - loss: 1.8601 - val_accuracy: 0.1403 - val_loss: 8.7830\n",
            "Epoch 31/50\n",
            "\u001b[1m375/375\u001b[0m \u001b[32m━━━━━━━━━━━━━━━━━━━━\u001b[0m\u001b[37m\u001b[0m \u001b[1m5s\u001b[0m 9ms/step - accuracy: 0.6251 - loss: 1.7789 - val_accuracy: 0.1385 - val_loss: 8.8700\n",
            "Epoch 32/50\n",
            "\u001b[1m375/375\u001b[0m \u001b[32m━━━━━━━━━━━━━━━━━━━━\u001b[0m\u001b[37m\u001b[0m \u001b[1m3s\u001b[0m 9ms/step - accuracy: 0.6395 - loss: 1.7092 - val_accuracy: 0.1470 - val_loss: 8.9804\n",
            "Epoch 33/50\n",
            "\u001b[1m375/375\u001b[0m \u001b[32m━━━━━━━━━━━━━━━━━━━━\u001b[0m\u001b[37m\u001b[0m \u001b[1m6s\u001b[0m 10ms/step - accuracy: 0.6471 - loss: 1.6640 - val_accuracy: 0.1520 - val_loss: 9.0628\n",
            "Epoch 34/50\n",
            "\u001b[1m375/375\u001b[0m \u001b[32m━━━━━━━━━━━━━━━━━━━━\u001b[0m\u001b[37m\u001b[0m \u001b[1m5s\u001b[0m 8ms/step - accuracy: 0.6573 - loss: 1.6103 - val_accuracy: 0.1417 - val_loss: 9.1675\n",
            "Epoch 35/50\n",
            "\u001b[1m375/375\u001b[0m \u001b[32m━━━━━━━━━━━━━━━━━━━━\u001b[0m\u001b[37m\u001b[0m \u001b[1m3s\u001b[0m 9ms/step - accuracy: 0.6791 - loss: 1.5328 - val_accuracy: 0.1462 - val_loss: 9.2484\n",
            "Epoch 36/50\n",
            "\u001b[1m375/375\u001b[0m \u001b[32m━━━━━━━━━━━━━━━━━━━━\u001b[0m\u001b[37m\u001b[0m \u001b[1m4s\u001b[0m 9ms/step - accuracy: 0.6850 - loss: 1.4859 - val_accuracy: 0.1515 - val_loss: 9.3234\n",
            "Epoch 37/50\n",
            "\u001b[1m375/375\u001b[0m \u001b[32m━━━━━━━━━━━━━━━━━━━━\u001b[0m\u001b[37m\u001b[0m \u001b[1m5s\u001b[0m 8ms/step - accuracy: 0.6984 - loss: 1.4313 - val_accuracy: 0.1558 - val_loss: 9.4348\n",
            "Epoch 38/50\n",
            "\u001b[1m375/375\u001b[0m \u001b[32m━━━━━━━━━━━━━━━━━━━━\u001b[0m\u001b[37m\u001b[0m \u001b[1m3s\u001b[0m 8ms/step - accuracy: 0.6982 - loss: 1.4049 - val_accuracy: 0.1518 - val_loss: 9.4908\n",
            "Epoch 39/50\n",
            "\u001b[1m375/375\u001b[0m \u001b[32m━━━━━━━━━━━━━━━━━━━━\u001b[0m\u001b[37m\u001b[0m \u001b[1m3s\u001b[0m 9ms/step - accuracy: 0.7138 - loss: 1.3632 - val_accuracy: 0.1520 - val_loss: 9.5620\n",
            "Epoch 40/50\n",
            "\u001b[1m375/375\u001b[0m \u001b[32m━━━━━━━━━━━━━━━━━━━━\u001b[0m\u001b[37m\u001b[0m \u001b[1m5s\u001b[0m 9ms/step - accuracy: 0.7269 - loss: 1.2890 - val_accuracy: 0.1528 - val_loss: 9.6543\n",
            "Epoch 41/50\n",
            "\u001b[1m375/375\u001b[0m \u001b[32m━━━━━━━━━━━━━━━━━━━━\u001b[0m\u001b[37m\u001b[0m \u001b[1m5s\u001b[0m 9ms/step - accuracy: 0.7301 - loss: 1.2576 - val_accuracy: 0.1558 - val_loss: 9.7181\n",
            "Epoch 42/50\n",
            "\u001b[1m375/375\u001b[0m \u001b[32m━━━━━━━━━━━━━━━━━━━━\u001b[0m\u001b[37m\u001b[0m \u001b[1m4s\u001b[0m 10ms/step - accuracy: 0.7415 - loss: 1.2180 - val_accuracy: 0.1538 - val_loss: 9.8069\n",
            "Epoch 43/50\n",
            "\u001b[1m375/375\u001b[0m \u001b[32m━━━━━━━━━━━━━━━━━━━━\u001b[0m\u001b[37m\u001b[0m \u001b[1m5s\u001b[0m 8ms/step - accuracy: 0.7479 - loss: 1.1816 - val_accuracy: 0.1570 - val_loss: 9.8878\n",
            "Epoch 44/50\n",
            "\u001b[1m375/375\u001b[0m \u001b[32m━━━━━━━━━━━━━━━━━━━━\u001b[0m\u001b[37m\u001b[0m \u001b[1m3s\u001b[0m 9ms/step - accuracy: 0.7511 - loss: 1.1473 - val_accuracy: 0.1480 - val_loss: 9.9558\n",
            "Epoch 45/50\n",
            "\u001b[1m375/375\u001b[0m \u001b[32m━━━━━━━━━━━━━━━━━━━━\u001b[0m\u001b[37m\u001b[0m \u001b[1m4s\u001b[0m 10ms/step - accuracy: 0.7573 - loss: 1.1206 - val_accuracy: 0.1562 - val_loss: 10.0382\n",
            "Epoch 46/50\n",
            "\u001b[1m375/375\u001b[0m \u001b[32m━━━━━━━━━━━━━━━━━━━━\u001b[0m\u001b[37m\u001b[0m \u001b[1m5s\u001b[0m 9ms/step - accuracy: 0.7664 - loss: 1.0760 - val_accuracy: 0.1573 - val_loss: 10.1132\n",
            "Epoch 47/50\n",
            "\u001b[1m375/375\u001b[0m \u001b[32m━━━━━━━━━━━━━━━━━━━━\u001b[0m\u001b[37m\u001b[0m \u001b[1m3s\u001b[0m 8ms/step - accuracy: 0.7717 - loss: 1.0574 - val_accuracy: 0.1543 - val_loss: 10.2044\n",
            "Epoch 48/50\n",
            "\u001b[1m375/375\u001b[0m \u001b[32m━━━━━━━━━━━━━━━━━━━━\u001b[0m\u001b[37m\u001b[0m \u001b[1m6s\u001b[0m 9ms/step - accuracy: 0.7819 - loss: 1.0150 - val_accuracy: 0.1575 - val_loss: 10.2476\n",
            "Epoch 49/50\n",
            "\u001b[1m375/375\u001b[0m \u001b[32m━━━━━━━━━━━━━━━━━━━━\u001b[0m\u001b[37m\u001b[0m \u001b[1m3s\u001b[0m 8ms/step - accuracy: 0.7844 - loss: 1.0015 - val_accuracy: 0.1585 - val_loss: 10.3403\n",
            "Epoch 50/50\n",
            "\u001b[1m375/375\u001b[0m \u001b[32m━━━━━━━━━━━━━━━━━━━━\u001b[0m\u001b[37m\u001b[0m \u001b[1m3s\u001b[0m 9ms/step - accuracy: 0.7905 - loss: 0.9618 - val_accuracy: 0.1580 - val_loss: 10.4352\n"
          ]
        }
      ]
    },
    {
      "cell_type": "code",
      "source": [
        "\n",
        "model.summary()"
      ],
      "metadata": {
        "colab": {
          "base_uri": "https://localhost:8080/",
          "height": 255
        },
        "id": "FHxMXh4kV17y",
        "outputId": "21207b14-520f-4741-e644-553b74feb8e3"
      },
      "execution_count": 23,
      "outputs": [
        {
          "output_type": "display_data",
          "data": {
            "text/plain": [
              "\u001b[1mModel: \"sequential_1\"\u001b[0m\n"
            ],
            "text/html": [
              "<pre style=\"white-space:pre;overflow-x:auto;line-height:normal;font-family:Menlo,'DejaVu Sans Mono',consolas,'Courier New',monospace\"><span style=\"font-weight: bold\">Model: \"sequential_1\"</span>\n",
              "</pre>\n"
            ]
          },
          "metadata": {}
        },
        {
          "output_type": "display_data",
          "data": {
            "text/plain": [
              "┏━━━━━━━━━━━━━━━━━━━━━━━━━━━━━━━━━┳━━━━━━━━━━━━━━━━━━━━━━━━┳━━━━━━━━━━━━━━━┓\n",
              "┃\u001b[1m \u001b[0m\u001b[1mLayer (type)                   \u001b[0m\u001b[1m \u001b[0m┃\u001b[1m \u001b[0m\u001b[1mOutput Shape          \u001b[0m\u001b[1m \u001b[0m┃\u001b[1m \u001b[0m\u001b[1m      Param #\u001b[0m\u001b[1m \u001b[0m┃\n",
              "┡━━━━━━━━━━━━━━━━━━━━━━━━━━━━━━━━━╇━━━━━━━━━━━━━━━━━━━━━━━━╇━━━━━━━━━━━━━━━┩\n",
              "│ embedding_1 (\u001b[38;5;33mEmbedding\u001b[0m)         │ (\u001b[38;5;34m64\u001b[0m, \u001b[38;5;34m25\u001b[0m, \u001b[38;5;34m100\u001b[0m)          │       \u001b[38;5;34m727,500\u001b[0m │\n",
              "├─────────────────────────────────┼────────────────────────┼───────────────┤\n",
              "│ lstm_1 (\u001b[38;5;33mLSTM\u001b[0m)                   │ (\u001b[38;5;34m64\u001b[0m, \u001b[38;5;34m150\u001b[0m)              │       \u001b[38;5;34m150,600\u001b[0m │\n",
              "├─────────────────────────────────┼────────────────────────┼───────────────┤\n",
              "│ dense_1 (\u001b[38;5;33mDense\u001b[0m)                 │ (\u001b[38;5;34m64\u001b[0m, \u001b[38;5;34m7275\u001b[0m)             │     \u001b[38;5;34m1,098,525\u001b[0m │\n",
              "└─────────────────────────────────┴────────────────────────┴───────────────┘\n"
            ],
            "text/html": [
              "<pre style=\"white-space:pre;overflow-x:auto;line-height:normal;font-family:Menlo,'DejaVu Sans Mono',consolas,'Courier New',monospace\">┏━━━━━━━━━━━━━━━━━━━━━━━━━━━━━━━━━┳━━━━━━━━━━━━━━━━━━━━━━━━┳━━━━━━━━━━━━━━━┓\n",
              "┃<span style=\"font-weight: bold\"> Layer (type)                    </span>┃<span style=\"font-weight: bold\"> Output Shape           </span>┃<span style=\"font-weight: bold\">       Param # </span>┃\n",
              "┡━━━━━━━━━━━━━━━━━━━━━━━━━━━━━━━━━╇━━━━━━━━━━━━━━━━━━━━━━━━╇━━━━━━━━━━━━━━━┩\n",
              "│ embedding_1 (<span style=\"color: #0087ff; text-decoration-color: #0087ff\">Embedding</span>)         │ (<span style=\"color: #00af00; text-decoration-color: #00af00\">64</span>, <span style=\"color: #00af00; text-decoration-color: #00af00\">25</span>, <span style=\"color: #00af00; text-decoration-color: #00af00\">100</span>)          │       <span style=\"color: #00af00; text-decoration-color: #00af00\">727,500</span> │\n",
              "├─────────────────────────────────┼────────────────────────┼───────────────┤\n",
              "│ lstm_1 (<span style=\"color: #0087ff; text-decoration-color: #0087ff\">LSTM</span>)                   │ (<span style=\"color: #00af00; text-decoration-color: #00af00\">64</span>, <span style=\"color: #00af00; text-decoration-color: #00af00\">150</span>)              │       <span style=\"color: #00af00; text-decoration-color: #00af00\">150,600</span> │\n",
              "├─────────────────────────────────┼────────────────────────┼───────────────┤\n",
              "│ dense_1 (<span style=\"color: #0087ff; text-decoration-color: #0087ff\">Dense</span>)                 │ (<span style=\"color: #00af00; text-decoration-color: #00af00\">64</span>, <span style=\"color: #00af00; text-decoration-color: #00af00\">7275</span>)             │     <span style=\"color: #00af00; text-decoration-color: #00af00\">1,098,525</span> │\n",
              "└─────────────────────────────────┴────────────────────────┴───────────────┘\n",
              "</pre>\n"
            ]
          },
          "metadata": {}
        },
        {
          "output_type": "display_data",
          "data": {
            "text/plain": [
              "\u001b[1m Total params: \u001b[0m\u001b[38;5;34m5,929,877\u001b[0m (22.62 MB)\n"
            ],
            "text/html": [
              "<pre style=\"white-space:pre;overflow-x:auto;line-height:normal;font-family:Menlo,'DejaVu Sans Mono',consolas,'Courier New',monospace\"><span style=\"font-weight: bold\"> Total params: </span><span style=\"color: #00af00; text-decoration-color: #00af00\">5,929,877</span> (22.62 MB)\n",
              "</pre>\n"
            ]
          },
          "metadata": {}
        },
        {
          "output_type": "display_data",
          "data": {
            "text/plain": [
              "\u001b[1m Trainable params: \u001b[0m\u001b[38;5;34m1,976,625\u001b[0m (7.54 MB)\n"
            ],
            "text/html": [
              "<pre style=\"white-space:pre;overflow-x:auto;line-height:normal;font-family:Menlo,'DejaVu Sans Mono',consolas,'Courier New',monospace\"><span style=\"font-weight: bold\"> Trainable params: </span><span style=\"color: #00af00; text-decoration-color: #00af00\">1,976,625</span> (7.54 MB)\n",
              "</pre>\n"
            ]
          },
          "metadata": {}
        },
        {
          "output_type": "display_data",
          "data": {
            "text/plain": [
              "\u001b[1m Non-trainable params: \u001b[0m\u001b[38;5;34m0\u001b[0m (0.00 B)\n"
            ],
            "text/html": [
              "<pre style=\"white-space:pre;overflow-x:auto;line-height:normal;font-family:Menlo,'DejaVu Sans Mono',consolas,'Courier New',monospace\"><span style=\"font-weight: bold\"> Non-trainable params: </span><span style=\"color: #00af00; text-decoration-color: #00af00\">0</span> (0.00 B)\n",
              "</pre>\n"
            ]
          },
          "metadata": {}
        },
        {
          "output_type": "display_data",
          "data": {
            "text/plain": [
              "\u001b[1m Optimizer params: \u001b[0m\u001b[38;5;34m3,953,252\u001b[0m (15.08 MB)\n"
            ],
            "text/html": [
              "<pre style=\"white-space:pre;overflow-x:auto;line-height:normal;font-family:Menlo,'DejaVu Sans Mono',consolas,'Courier New',monospace\"><span style=\"font-weight: bold\"> Optimizer params: </span><span style=\"color: #00af00; text-decoration-color: #00af00\">3,953,252</span> (15.08 MB)\n",
              "</pre>\n"
            ]
          },
          "metadata": {}
        }
      ]
    },
    {
      "cell_type": "markdown",
      "source": [
        "### Генерация текста. Используйте образец из туториала по RNN"
      ],
      "metadata": {
        "id": "KpJJDHo9Iu8v"
      }
    },
    {
      "cell_type": "code",
      "source": [
        "def generate_text(seed_text, next_words, max_sequence_len):\n",
        "    for _ in range(next_words):\n",
        "        token_list = tokenizer.texts_to_sequences([seed_text])[0]\n",
        "        token_list = pad_sequences([token_list], maxlen=max_sequence_len-1, padding='pre')\n",
        "        predicted = np.argmax(model.predict(token_list, verbose=0), axis=-1)\n",
        "\n",
        "        output_word = ''\n",
        "        for word, index in tokenizer.word_index.items():\n",
        "            if index == predicted:\n",
        "                output_word = word\n",
        "                break\n",
        "        seed_text += ' ' + output_word\n",
        "    return seed_text\n",
        "\n",
        "generated = generate_text(\"slim\", 25, max_sequence_len)\n",
        "print(generated)\n"
      ],
      "metadata": {
        "colab": {
          "base_uri": "https://localhost:8080/"
        },
        "id": "eD6guXSxfBRZ",
        "outputId": "914bdd4b-d871-4a16-cf5b-8f68c0338525"
      },
      "execution_count": 25,
      "outputs": [
        {
          "output_type": "stream",
          "name": "stdout",
          "text": [
            "slim sha mind's in the gutter but insane you wanna see her with her with her lucifer white face mask face carnage up no white flags\n"
          ]
        }
      ]
    },
    {
      "cell_type": "markdown",
      "source": [
        "### Сгенерируйте несколько текстов с помощью созданной модели"
      ],
      "metadata": {
        "id": "nqx96eI6Izmd"
      }
    },
    {
      "cell_type": "code",
      "source": [
        "# генерируем несколько текстов, используя предыдущую функцию\n",
        "def generate_multiple_texts(seed_texts, next_words, max_sequence_len):\n",
        "    generated_texts = []\n",
        "    for seed_text in seed_texts:\n",
        "        generated_text = generate_text(seed_text, next_words, max_sequence_len)\n",
        "        generated_texts.append(generated_text)\n",
        "    return generated_texts\n",
        "\n",
        "seed_texts = [\n",
        "    \"slim\",\n",
        "    \"I am not\",\n",
        "    \"Eminem\",\n",
        "    \"Rap\",\n",
        "    \"Music\",\n",
        "    \"You better\",\n",
        "    \"Christina\"\n",
        "]\n",
        "\n",
        "generated_texts = generate_multiple_texts(seed_texts, next_words=25, max_sequence_len=max_sequence_len)\n",
        "\n",
        "for i, generated_text in enumerate(generated_texts):\n",
        "    print(f\"Generated text {i+1}:\\n{generated_text}\\n\")\n"
      ],
      "metadata": {
        "colab": {
          "base_uri": "https://localhost:8080/"
        },
        "id": "x_GmMlKulAYu",
        "outputId": "9d4019f8-5828-4651-e1c4-e5f4e7e89ad0"
      },
      "execution_count": 27,
      "outputs": [
        {
          "output_type": "stream",
          "name": "stdout",
          "text": [
            "Generated text 1:\n",
            "slim sha mind's in the gutter but insane you wanna see her with her with her lucifer white face mask face carnage up no white flags\n",
            "\n",
            "Generated text 2:\n",
            "I am not coming back i done told over 'em comment on shit i don't havin' regrets yeah oh oh oh oh oh oh oh oh oh oh\n",
            "\n",
            "Generated text 3:\n",
            "Eminem i just keep droppin' shit i saw you i'm too fly now yeah oh oh oh oh oh oh oh oh oh oh oh yeah\n",
            "\n",
            "Generated text 4:\n",
            "Rap circles around 'round clowns surround sound sound the internet thought i feed off of you yeah yeah you on my elevator uh huh yeah yeah\n",
            "\n",
            "Generated text 5:\n",
            "Music to be buried by the pen exploded yeah like a storm screamin' out no regrets yeah no apologies i ain't takin' shit damn oh oh\n",
            "\n",
            "Generated text 6:\n",
            "You better you better run cocksucker haha and i get involved in a workplace shooting dozens of officers and damn damn look to put started to load\n",
            "\n",
            "Generated text 7:\n",
            "Christina down compose yourself mozart the sides of the asylum wall art and i'm at my clown face but my only question is my fighter's cussin'\n",
            "\n"
          ]
        }
      ]
    },
    {
      "cell_type": "markdown",
      "source": [
        "### Выводы\n",
        "- Я экспериментировала с разным количеством max tokens И длиной датасета, иногда мне не хватало ОЗУ, а иногда данных было слишком мало и Accuracy не доходило даже до 70%. Сейчас тренировочная accuracy почти 80%, но валидационная оцень низкая (примерно 16% и 10 val_loss).\n",
        "- Вероятно, модель переобучилась (?) или стоит еще настроить гиперпараметры\n",
        "- В целом, полученный результат выглядит правдоподобно для текстов в стилитике Эминема: есть гиперболы в его стиле, после токена Slim закономерно идет shady, и даже есть «Music to be buried by», что отсылает к альбому «Music to Be Murdered By», есть даже какие-то попытки в рифму\n",
        "- При увеличении контекста (длины строки до 30, 40, 50) RNN теряет контекст и начинает генерировать совсем несвязный бред, либо зацикливате yeah/oh oh oh до бесконечностп..."
      ],
      "metadata": {
        "id": "wBnqy1kpqs-t"
      }
    }
  ]
}