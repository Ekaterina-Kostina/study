{
  "nbformat": 4,
  "nbformat_minor": 0,
  "metadata": {
    "colab": {
      "provenance": [],
      "collapsed_sections": [
        "xjBo_ebS9BpG",
        "f52IBxo_3QMO",
        "JUJsTkMH4Gbi",
        "ty-_ARJv4hjz",
        "ibVDS0oG6Kab",
        "Byz1IibM7s8y",
        "pmEBQyIh9Ist",
        "NdG5Y_Cg9Isv",
        "Tf1rQpab9Isx"
      ],
      "include_colab_link": true
    },
    "kernelspec": {
      "name": "python3",
      "display_name": "Python 3"
    },
    "language_info": {
      "name": "python"
    }
  },
  "cells": [
    {
      "cell_type": "markdown",
      "metadata": {
        "id": "view-in-github",
        "colab_type": "text"
      },
      "source": [
        "<a href=\"https://colab.research.google.com/github/Ekaterina-Kostina/study/blob/main/%D0%9A%D0%BE%D1%81%D1%82%D0%B8%D0%BD%D0%B0_%D0%95_%D0%94_h_w_%224_if_ipynb_(new).ipynb\" target=\"_parent\"><img src=\"https://colab.research.google.com/assets/colab-badge.svg\" alt=\"Open In Colab\"/></a>"
      ]
    },
    {
      "cell_type": "markdown",
      "source": [
        "# Блок 1: задачи на условия"
      ],
      "metadata": {
        "id": "xjBo_ebS9BpG"
      }
    },
    {
      "cell_type": "markdown",
      "source": [
        "## Задание 1\n",
        "\n",
        "### Напишите программу для проверки пароля пользователя\n",
        "\n",
        "**Образец работы программы:**\n",
        "\n",
        "```\n",
        "Введите пароль: 123\n",
        "Пароль неверный\n",
        "Введите пароль: 321\n",
        "Пароль верный\n",
        "```\n",
        "\n",
        "**Алгоритм:**\n",
        "\n",
        "1. Создайте переменную, в которой хранится верный пароль\n",
        "2. Запросите у пользователя пароль\n",
        "3. Если пароль верный, выведите \"Пароль верный\"\n",
        "4. Иначе, выведите \"Пароль неверный\""
      ],
      "metadata": {
        "id": "f52IBxo_3QMO"
      }
    },
    {
      "cell_type": "code",
      "execution_count": null,
      "metadata": {
        "id": "XDk2pBii3Nvo"
      },
      "outputs": [],
      "source": [
        "right_password = 567\n",
        "user_password = int(input('Введите пароль: '))\n",
        "if user_password == right_password:\n",
        "  print('Пароль верный')\n",
        "else:\n",
        "  print('Пароль неверный')\n"
      ]
    },
    {
      "cell_type": "markdown",
      "source": [
        "## Задание 2\n",
        "\n",
        "### Напишите программу для проверки возраста пользователя\n",
        "\n",
        "**Образец работы программы:**\n",
        "\n",
        "```\n",
        "Введите возраст: 12\n",
        "Доступ запрещен\n",
        "Введите пароль: 21\n",
        "Доступ разрешен\n",
        "```\n",
        "Если возраст больше или равен 18, программа выводит \"Доступ разрешен\""
      ],
      "metadata": {
        "id": "JUJsTkMH4Gbi"
      }
    },
    {
      "cell_type": "code",
      "source": [
        "user_age = int(input('Введите возраст: '))\n",
        "if user_age >= 18:\n",
        "  print('Доступ разрешен')\n",
        "else:\n",
        "  print('Доступ запрещен')"
      ],
      "metadata": {
        "id": "aUr56W8b3-gg",
        "colab": {
          "base_uri": "https://localhost:8080/"
        },
        "outputId": "a67a7c8d-3def-4526-b605-23cc8c082f2e"
      },
      "execution_count": null,
      "outputs": [
        {
          "output_type": "stream",
          "name": "stdout",
          "text": [
            "Введите возраст: 15\n",
            "Доступ запрещен\n"
          ]
        }
      ]
    },
    {
      "cell_type": "markdown",
      "source": [
        "## Задание 3\n",
        "\n",
        "### Напишите программу для приветствия пользователя\n",
        "\n",
        "**Образец работы программы:**\n",
        "\n",
        "```\n",
        "Введите время: 12:30\n",
        "Добрый день!\n",
        "Введите время: 10:30\n",
        "Доброе утро!\n",
        "Введите время: 21:30\n",
        "Добрый вечер!\n",
        "Введите время: 01:30\n",
        "Доброй ночи!\n",
        "```\n",
        "**Алгоритм:**\n",
        "\n",
        "1. Программа принимает на вход строку\n",
        "2. Делим строку по знаку `:`, создаем новую переменную с результатом разделения\n",
        "3. Извлекаем первый элемент из созданной переменной\n",
        "3. Использует логические выражения, чтобы вывести одно из четырех приветствий"
      ],
      "metadata": {
        "id": "ty-_ARJv4hjz"
      }
    },
    {
      "cell_type": "code",
      "source": [
        "time = input('Введите время: ')\n",
        "first_half = int(time[0:2])\n",
        "if 12 < first_half < 18:\n",
        "    print('Добрый день')\n",
        "elif 18 <= first_half < 23:\n",
        "    print('Добрый вечер')\n",
        "elif first_half >= 23 or first_half < 5:\n",
        "    print('Доброй ночи')\n",
        "else:\n",
        "    print('Доброе утро')"
      ],
      "metadata": {
        "id": "076IfTcK42zK",
        "colab": {
          "base_uri": "https://localhost:8080/"
        },
        "outputId": "5e33f5ce-6c91-4ddf-94a0-ad2990fb0a7b"
      },
      "execution_count": null,
      "outputs": [
        {
          "output_type": "stream",
          "name": "stdout",
          "text": [
            "Введите время: 04:24\n",
            "Доброй ночи\n"
          ]
        }
      ]
    },
    {
      "cell_type": "markdown",
      "source": [
        "## Задание 4\n",
        "\n",
        "### Целочисленный калькулятор\n",
        "\n",
        "**Образец работы программы:**\n",
        "\n",
        "```\n",
        "Введите выражение: 2 + 2\n",
        "4\n",
        "Введите выражение: 2 - 2\n",
        "0\n",
        "Введите выражение: 2 : 2\n",
        "1\n",
        "Введите время: 2 * 2\n",
        "4\n",
        "```\n",
        "**Алгоритм:**\n",
        "\n",
        "1. Программа принимает на вход строку\n",
        "2. Делим строку, создаем список из 3-х элементов\n",
        "3. Проверяем, что записано во втором элементе (помним, что нумерация начинается с 0!) с помощью условий\n",
        "4. Производим одно из четырех возможных действий с первым и последним элементом созданного списка"
      ],
      "metadata": {
        "id": "ibVDS0oG6Kab"
      }
    },
    {
      "cell_type": "code",
      "source": [
        "task = input('Введите выражение: ')\n",
        "if '+' in task:\n",
        "    num1, num2 = task.split('+')\n",
        "    result = int(num1) + int(num2)\n",
        "elif '-' in task:\n",
        "    num1, num2 = task.split('-')\n",
        "    result = int(num1) - int(num2)\n",
        "elif '*' in task:\n",
        "    num1, num2 = task.split('*')\n",
        "    result = int(num1) * int(num2)\n",
        "else:\n",
        "    num1, num2 = task.split(':')\n",
        "    result = int(num1) / int(num2)\n",
        "print(result)\n"
      ],
      "metadata": {
        "id": "TQroW6Jr7C0K"
      },
      "execution_count": null,
      "outputs": []
    },
    {
      "cell_type": "markdown",
      "source": [
        "## Задание 5\n",
        "\n",
        "### Умный калькулятор\n",
        "\n",
        "**Образец работы программы:**\n",
        "\n",
        "```\n",
        "Введите выражение: 2 + 2\n",
        "4\n",
        "Введите выражение: 2 == 2\n",
        "True\n",
        "Введите выражение: 2 + 2.1\n",
        "4.1\n",
        "```\n",
        "Дополните калькулятор из задания 4:\n",
        "1. Замените операции с int операциями с float\n",
        "2. Научите калькулятор выполнять логические выражения, добавив новое условие\n",
        "3. Если результат вычисления - целое число (например, `4.0`), выводите целочисленный тип (`4`), иначе, выводите float"
      ],
      "metadata": {
        "id": "Byz1IibM7s8y"
      }
    },
    {
      "cell_type": "code",
      "source": [
        "task = input('Введите выражение: ')\n",
        "if '+' in task:\n",
        "    num1, num2 = task.split('+')\n",
        "    result = float(num1) + float(num2)\n",
        "elif '-' in task:\n",
        "    num1, num2 = task.split('-')\n",
        "    result = float(num1) - float(num2)\n",
        "elif '*' in task:\n",
        "    num1, num2 = task.split('*')\n",
        "    result = float(num1) * float(num2)\n",
        "elif '==' in task:\n",
        "    num1, num2 = task.split('==')\n",
        "    result = float(num1) == float(num2)\n",
        "elif '!=' in task:\n",
        "    num1, num2 = task.split('!=')\n",
        "    result = float(num1) != float(num2)\n",
        "elif '<=' in task:\n",
        "    num1, num2 = task.split('<=')\n",
        "    result = float(num1) <= float(num2)\n",
        "elif '>=' in task:\n",
        "    num1, num2 = task.split('>=')\n",
        "    result = float(num1) >= float(num2)\n",
        "elif '<' in task:\n",
        "    num1, num2 = task.split('<')\n",
        "    result = float(num1) < float(num2)\n",
        "elif '>' in task:\n",
        "    num1, num2 = task.split('>')\n",
        "    result = float(num1) > float(num2)\n",
        "else:\n",
        "    num1, num2 = task.split(':')\n",
        "    result = float(num1) / float(num2)\n",
        "\n",
        "if isinstance (result, float):\n",
        "  result = int(result)\n",
        "print(result)"
      ],
      "metadata": {
        "id": "z5cHM4Og7G9s"
      },
      "execution_count": null,
      "outputs": []
    },
    {
      "cell_type": "code",
      "source": [],
      "metadata": {
        "id": "THlKL93h8X7m"
      },
      "execution_count": null,
      "outputs": []
    },
    {
      "cell_type": "code",
      "source": [],
      "metadata": {
        "id": "o8zXUyeX8-G4"
      },
      "execution_count": null,
      "outputs": []
    },
    {
      "cell_type": "markdown",
      "source": [
        "# Блок 2: задачи на обработку данных"
      ],
      "metadata": {
        "id": "HkO1aD2F9Iss"
      }
    },
    {
      "cell_type": "markdown",
      "source": [
        "## Задание 6\n",
        "\n",
        "### Фильтрация данных\n",
        "\n",
        "**Образец результата работы программы:**\n",
        "\n",
        "```\n",
        "Laptop\n",
        "Smartphone\n",
        "Tablet\n",
        "```\n",
        "\n",
        "**Условия:**\n",
        "\n",
        "Дан список продуктов в магазине техники:\n",
        "\n",
        "`\"Laptop True\", \"Headphones False\", \"Smartphone True\", \"Tablet True\", \"Speaker False\"`\n",
        "\n",
        "Каждый элемент списка состоит из двух слов:\n",
        "\n",
        "1. тип продукта (`Laptop`)\n",
        "2. его наличие (`True`) или отсутствие (`False`) в магазине\n",
        "\n",
        "Допишите код ниже, чтобы вывести на экран продукты в наличии.\n",
        "\n",
        "Используйте условие: вторая часть элемента списка должна быть равна `True`."
      ],
      "metadata": {
        "id": "pmEBQyIh9Ist"
      }
    },
    {
      "cell_type": "code",
      "execution_count": 1,
      "metadata": {
        "id": "i5vvEmhZ9Isv",
        "colab": {
          "base_uri": "https://localhost:8080/"
        },
        "outputId": "85f3976a-27ce-4947-fc86-77cb1dc1d34a"
      },
      "outputs": [
        {
          "output_type": "stream",
          "name": "stdout",
          "text": [
            "Laptop\n",
            "Smartphone\n",
            "Tablet\n"
          ]
        }
      ],
      "source": [
        "# Список продуктов\n",
        "products = [\"Laptop True\", \"Headphones False\", \"Smartphone True\", \"Tablet True\", \"Speaker False\"]\n",
        "\n",
        "# Начинаем перебирать список\n",
        "for product in products:\n",
        "  # если вторая часть текущего элемента списка product == True\n",
        "  if 'True' in product:\n",
        "    product_type = product.split()[0]\n",
        "    print(product_type)"
      ]
    },
    {
      "cell_type": "markdown",
      "source": [
        "## Задание 7\n",
        "\n",
        "### Фильтрация по числу\n",
        "\n",
        "**Образец результата работы программы:**\n",
        "\n",
        "```\n",
        "Headphones\n",
        "Smartphone\n",
        "Tablet\n",
        "```\n",
        "\n",
        "**Условия:**\n",
        "\n",
        "Дан список продуктов в магазине техники:\n",
        "\n",
        "`\"Laptop 8\", \"Headphones 12\", \"Smartphone 41\", \"Tablet 10\", \"Speaker 6\"`\n",
        "\n",
        "Каждый элемент списка состоит из двух компонентов:\n",
        "\n",
        "1. тип продукта (`Laptop`)\n",
        "2. количество продуктов данного типа в магазине (`8`)\n",
        "\n",
        "Допишите код ниже, чтобы вывести на экран продукты, количество которых равно или больше 10.\n",
        "\n",
        "Используйте условие: вторая часть элемента списка должна быть равна или больше десяти."
      ],
      "metadata": {
        "id": "NdG5Y_Cg9Isv"
      }
    },
    {
      "cell_type": "code",
      "source": [
        "# Список продуктов\n",
        "num_products = [\"Laptop 8\", \"Headphones 12\", \"Smartphone 41\", \"Tablet 10\", \"Speaker 6\"]\n",
        "\n",
        "# Начинаем перебирать список\n",
        "for product in num_products:\n",
        "    product_amount = int(product.split()[1])\n",
        "    if product_amount >= 10:\n",
        "      product_type = product.split()[0]\n",
        "      print(product_type)"
      ],
      "metadata": {
        "id": "tpsi4s4l9Isw",
        "colab": {
          "base_uri": "https://localhost:8080/"
        },
        "outputId": "d7a0fa94-6f92-4577-c23a-48512bbc2a08"
      },
      "execution_count": 7,
      "outputs": [
        {
          "output_type": "stream",
          "name": "stdout",
          "text": [
            "Headphones\n",
            "Smartphone\n",
            "Tablet\n"
          ]
        }
      ]
    },
    {
      "cell_type": "markdown",
      "source": [
        "## Задание 8\n",
        "\n",
        "### Изменение списка\n",
        "\n",
        "**Образец результата работы программы:**\n",
        "\n",
        "```\n",
        "`\"Headphones 12\", \"Smartphone 41\", \"Tablet 10\", \"Desktop 16\"`\n",
        "```\n",
        "\n",
        "**Условия:**\n",
        "\n",
        "Дан список новых продуктов для поставки магазин техники:\n",
        "\n",
        "`\"Desktop 16\", \"Mouse 2\", \"Keyboard 4\"`\n",
        "\n",
        "Каждый элемент списка состоит из двух компонентов:\n",
        "\n",
        "1. тип продукта (`Desktop`)\n",
        "2. количество продуктов данного типа в магазине (`16`)\n",
        "\n",
        "Допишите код ниже, чтобы добавить в список `num_products` продукты, количество которых равно или больше 10.\n",
        "\n",
        "Используйте условие и функцию `append`."
      ],
      "metadata": {
        "id": "Tf1rQpab9Isx"
      }
    },
    {
      "cell_type": "code",
      "source": [
        "new_products = [\"Desktop 16\", \"Mouse 2\", \"Keyboard 4\"]\n",
        "\n",
        "for product in new_products:\n",
        "  # Проверьте количество продуктов\n",
        "  product_amount = int(product.split()[1])\n",
        "  if product_amount >= 10:\n",
        "    num_products.append(product)\n",
        "    print(num_products)"
      ],
      "metadata": {
        "id": "LSd3_vPw9Isx",
        "colab": {
          "base_uri": "https://localhost:8080/"
        },
        "outputId": "5519b69f-d703-43f7-d991-18da2a34bf18"
      },
      "execution_count": 9,
      "outputs": [
        {
          "output_type": "stream",
          "name": "stdout",
          "text": [
            "['Laptop 8', 'Headphones 12', 'Smartphone 41', 'Tablet 10', 'Speaker 6', 'Desktop 16']\n"
          ]
        }
      ]
    },
    {
      "cell_type": "markdown",
      "source": [
        "Удалите из `num_products` элементы, количество которых меньше 10.\n",
        "\n",
        "Используйте `remove`. Когда мы используем `remove`, список меняется и в следующей итерации могут вознкнуть конфликты.\n",
        "\n",
        "    Пример:  \n",
        "      Итерация 1: удали третий элемент из списка [1, 2, 3]\n",
        "      Итерация 2: удали третий элемент из списка [1, 2] - ошибка!\n",
        "\n",
        "Поэтому мы создаем временную копию списка `num_products[:]`."
      ],
      "metadata": {
        "id": "FAIsp2TOB1_a"
      }
    },
    {
      "cell_type": "code",
      "source": [
        "for product in num_products[:]: # [:] создает копию списка, чтобы избежать конфликтов\n",
        "  # Проверьте количество продуктов\n",
        "  product_amount = int(product.split()[1])\n",
        "  if product_amount < 10:\n",
        "    num_products.remove(product)\n",
        "    print(num_products)"
      ],
      "metadata": {
        "id": "Gt-6sSw9B-_f",
        "colab": {
          "base_uri": "https://localhost:8080/"
        },
        "outputId": "9334d378-9ea0-4fdf-c888-9b8305356cff"
      },
      "execution_count": 10,
      "outputs": [
        {
          "output_type": "stream",
          "name": "stdout",
          "text": [
            "['Headphones 12', 'Smartphone 41', 'Tablet 10', 'Speaker 6', 'Desktop 16']\n",
            "['Headphones 12', 'Smartphone 41', 'Tablet 10', 'Desktop 16']\n"
          ]
        }
      ]
    },
    {
      "cell_type": "markdown",
      "source": [
        "## Задание 9\n",
        "\n",
        "### Фильтрация списка имен\n",
        "\n",
        "**Образец результата работы программы:**\n",
        "\n",
        "```\n",
        "a_k = \"Alex\", \"Chloe\", \"George\", \"Jordan\"\n",
        "l_z = \"Lauren\", \"Tom\"\n",
        "```\n",
        "\n",
        "**Условия:**\n",
        "\n",
        "Дан список имен:\n",
        "\n",
        "`[\"Tom\", \"Chloe\", \"Alex\", \"George\", \"Lauren\", \"Jordan\"]`\n",
        "\n",
        "Создайте два списка и отсортируйте их в алфавитном порядке:\n",
        "\n",
        "1. `a_k`: список имен, начинающихся с букв в диапазоне от `A` до `K` (буквы чувствительны к регистру и ранжируются [как числа] от A до Z и далее от a до z)\n",
        "2. `l_z`: список от `L` до `Z`"
      ],
      "metadata": {
        "id": "JPbwkam09Isx"
      }
    },
    {
      "cell_type": "code",
      "source": [
        "names = [\"Tom\", \"Chloe\", \"Alex\", \"George\", \"Lauren\", \"Jordan\"]\n",
        "\n",
        "# Создайте 2 пустых списка a_k и l_z\n",
        "list_a_k = []\n",
        "list_l_z = []\n",
        "for name in names:\n",
        "  # Используйте append, чтобы внести в a_k имена от A до K\n",
        "  if 'A' <= name[0] <= 'K':\n",
        "    list_a_k.append(name)\n",
        "  else:\n",
        "    list_l_z.append(name)\n",
        "# Используйте sorted, чтобы перезаписать в оба списка отсортированные по алфавиту данные\n",
        "list_a_k.sort()\n",
        "list_l_z.sort()\n",
        "print('a_k =', list_a_k)\n",
        "print('l_z =', list_l_z)"
      ],
      "metadata": {
        "id": "BPzG9mme9Isx",
        "colab": {
          "base_uri": "https://localhost:8080/"
        },
        "outputId": "aab752d1-1f95-4de7-be49-4336eb10ce3b"
      },
      "execution_count": 15,
      "outputs": [
        {
          "output_type": "stream",
          "name": "stdout",
          "text": [
            "a_k = ['Alex', 'Chloe', 'George', 'Jordan']\n",
            "l_z = ['Lauren', 'Tom']\n"
          ]
        }
      ]
    },
    {
      "cell_type": "markdown",
      "source": [
        "## Задание 10\n",
        "\n",
        "### Фильтрация типов\n",
        "\n",
        "**Образец результата работы программы:**\n",
        "\n",
        "```\n",
        "nums = [1, 3, 4]\n",
        "names = [\"apple\", \"banana\", \"kiwi\"]\n",
        "floats = [2.5, 7.6]\n",
        "bools = [True, True, False]\n",
        "```\n",
        "\n",
        "**Условия:**\n",
        "\n",
        "Дан список данных разных типов:\n",
        "\n",
        "`3, 1, \"kiwi\", 7.6, False, True, \"apple\", 2.5, \"banana\", True, 4`\n",
        "\n",
        "Используйте выражение `if isinstance(element, type)`, где `type` - питоновский тип (`int`, `str`...), чтобы создать списки, содержащие элементы одного типа.\n",
        "\n",
        "Отсортируйте списки с помощью `sorted`."
      ],
      "metadata": {
        "id": "_GVE8_lb9Isx"
      }
    },
    {
      "cell_type": "code",
      "source": [
        "mixed_list = [3, 1, \"kiwi\", 7.6, False, True, \"apple\", 2.5, \"banana\", True, 4]\n",
        "\n",
        "list_int = []\n",
        "list_float = []\n",
        "list_str = []\n",
        "list_boolean = []\n",
        "\n",
        "for element in mixed_list:\n",
        "  # Проверьте тип\n",
        "  if isinstance(element, int) and not isinstance(element, bool):\n",
        "    # Добавьте данные в нужный список\n",
        "    list_int.append(element)\n",
        "  # Проверьте остальные типы\n",
        "  if isinstance(element, float):\n",
        "    # Добавьте данные в нужный список\n",
        "    list_float.append(element)\n",
        "  if isinstance(element, str):\n",
        "    # Добавьте данные в нужный список\n",
        "    list_str.append(element)\n",
        "  if isinstance(element, bool):\n",
        "    # Добавьте данные в нужный список\n",
        "    list_boolean.append(element)\n",
        "list_int.sort()\n",
        "list_float.sort()\n",
        "list_str.sort()\n",
        "list_boolean.sort()\n",
        "print('nums', list_int)\n",
        "print('names', list_str)\n",
        "print('floats', list_float)\n",
        "print('bools', list_boolean)"
      ],
      "metadata": {
        "id": "wI_V15MM9Isy",
        "colab": {
          "base_uri": "https://localhost:8080/"
        },
        "outputId": "d1b6c2ec-511c-45ce-c100-a29c42b7fcca"
      },
      "execution_count": 18,
      "outputs": [
        {
          "output_type": "stream",
          "name": "stdout",
          "text": [
            "nums [1, 3, 4]\n",
            "names ['apple', 'banana', 'kiwi']\n",
            "floats [2.5, 7.6]\n",
            "bools [False, True, True]\n"
          ]
        }
      ]
    }
  ]
}