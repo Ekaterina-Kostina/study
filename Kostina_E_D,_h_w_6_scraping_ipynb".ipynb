{
  "nbformat": 4,
  "nbformat_minor": 0,
  "metadata": {
    "colab": {
      "provenance": [],
      "include_colab_link": true
    },
    "kernelspec": {
      "name": "python3",
      "display_name": "Python 3"
    },
    "language_info": {
      "name": "python"
    }
  },
  "cells": [
    {
      "cell_type": "markdown",
      "metadata": {
        "id": "view-in-github",
        "colab_type": "text"
      },
      "source": [
        "<a href=\"https://colab.research.google.com/github/Ekaterina-Kostina/study/blob/main/Kostina_E_D%2C_h_w_6_scraping_ipynb%22.ipynb\" target=\"_parent\"><img src=\"https://colab.research.google.com/assets/colab-badge.svg\" alt=\"Open In Colab\"/></a>"
      ]
    },
    {
      "cell_type": "markdown",
      "source": [
        "**Задание 1**\n",
        "\n",
        "Написать функцию для скрейпинга веб-страниц"
      ],
      "metadata": {
        "id": "vi_saniub3hP"
      }
    },
    {
      "cell_type": "code",
      "source": [
        "!pip install beautifulsoup4 -q\n",
        "!pip install requests -q\n",
        "\n",
        "import requests\n",
        "from bs4 import BeautifulSoup"
      ],
      "metadata": {
        "id": "aWlZpSILeLJN"
      },
      "execution_count": 13,
      "outputs": []
    },
    {
      "cell_type": "code",
      "source": [
        "'''\n",
        "Допишите функцию для скрейпинга\n",
        "'''\n",
        "\n",
        "def scrape_text_from_url(url, tag, class_=None):\n",
        "  headers = {\"User-Agent\": \"Mozilla/5.0 (Windows NT 10.0; Win64; x64) AppleWebKit/537.36 (KHTML, like Gecko) Chrome/91.0.4472.124 Safari/537.36\"}\n",
        "  response = requests.get(url, headers=headers)\n",
        "  if response.status_code == 200: ### если запрос успешный (возвращается значение 200) ###\n",
        "      soup = BeautifulSoup(response.text, 'html.parser') ### парсим контент или текст с помощью BeautifulSoup html.parser ###\n",
        "      paragraphs = soup.find_all(tag, class_) # ищем теги и классы на основании аргументов функции; по умолчанию ищем только тег\n",
        "      text = [] ### создаем переменную text строкового типа, куда мы запишем все найденные совпадения ###\n",
        "      for i in paragraphs: ### начинаем перебор элементов переменной paragraphs ###\n",
        "        text.append(i.get_text(strip=True)) # извлекаем текстовые данные\n",
        "      return text\n",
        "  else: ### иначе ###\n",
        "      print(f\"{response.status_code} Error\") ### выводим статус-код и сообщение об ошибке ###\n",
        "      return []"
      ],
      "metadata": {
        "id": "AI-6i4LWeL82"
      },
      "execution_count": null,
      "outputs": []
    },
    {
      "cell_type": "code",
      "source": [
        "'''\n",
        "Проверяем функцию для скрейпинга: пример 1\n",
        "'''\n",
        "def scrape_text_from_url(url, tag, class_=None):\n",
        "  headers = {\"User-Agent\": \"Mozilla/5.0 (Windows NT 10.0; Win64; x64) AppleWebKit/537.36 (KHTML, like Gecko) Chrome/91.0.4472.124 Safari/537.36\"}\n",
        "  response = requests.get(url, headers=headers)\n",
        "  if response.status_code == 200: ### если запрос успешный (возвращается значение 200) ###\n",
        "      soup = BeautifulSoup(response.text, 'html.parser') ### парсим контент или текст с помощью BeautifulSoup html.parser ###\n",
        "      paragraphs = soup.find_all(tag, class_) # ищем теги и классы на основании аргументов функции; по умолчанию ищем только тег\n",
        "      text = [] ### создаем переменную text строкового типа, куда мы запишем все найденные совпадения ###\n",
        "      for p in paragraphs: ### начинаем перебор элементов переменной paragraphs ###\n",
        "        text.append(p.get_text(strip=True)) # извлекаем текстовые данные\n",
        "      return text\n",
        "  else: ### иначе ###\n",
        "      print(f\"{response.status_code} Error\") ### выводим статус-код и сообщение об ошибке ###\n",
        "      return []\n",
        "\n",
        "scrape_text_from_url('https://en.wikipedia.org/wiki/Chomsky_hierarchy', 'p')"
      ],
      "metadata": {
        "colab": {
          "base_uri": "https://localhost:8080/"
        },
        "id": "TrKlqhx5fcGB",
        "outputId": "d9e4a24a-3ba2-4d96-c323-96dce10d6795"
      },
      "execution_count": 18,
      "outputs": [
        {
          "output_type": "execute_result",
          "data": {
            "text/plain": [
              "[\"TheChomsky hierarchyin the fields offormal language theory,computer science, andlinguistics, is acontainment hierarchyof classes offormal grammars. A formal grammar describes how to form strings from a language's vocabulary (or alphabet) that are valid according to the language's syntax. The linguistNoam Chomskytheorized that four different classes of formal grammars existed that could generate increasingly complex languages. Each class can also completely generate the language of all inferior classes (set inclusive).\",\n",
              " 'The general idea of a hierarchy of grammars was first described by Noam Chomsky in \"Three models for the description of language\" during the formalization oftransformational-generative grammar(TGG).[1]Marcel-Paul Schützenbergeralso played a role in the development of the theory offormal languages; the paper \"The algebraic theory of context free languages\"[2]describes the modern hierarchy, including context-free grammars.[3]',\n",
              " 'Independently, alongside linguists, mathematicians were developing models of computation (viaautomata). Parsing a sentence in a language is similar to computation, and the grammars described by Chomsky proved to both resemble and be equivalent in computational power to various machine models.[4]',\n",
              " \"The following table summarizes each of Chomsky's four types of grammars, the class of language it generates, the type of automaton that recognizes it, and the form its rules must have. The classes are defined by the constraints on the productions rules.\",\n",
              " 'Note that the set of grammars corresponding torecursive languagesis not a member of this hierarchy; these would be properly between Type-0 and Type-1.',\n",
              " 'Every regular language is context-free, every context-free language is context-sensitive, every context-sensitive language is recursive and every recursive language is recursively enumerable. These are all proper inclusions, meaning that there exist recursively enumerable languages that are not context-sensitive, context-sensitive languages that are not context-free and context-free languages that are not regular.[7]',\n",
              " 'Type-3 grammars generate theregular languages. Such a grammar restricts its rules to a single nonterminal on the left-hand side and a right-hand side consisting of a single terminal, possibly followed by a single nonterminal, in which case the grammar isright regular. Alternatively, all the rules can have their right-hand sides consist of a single terminal, possiblyprecededby a single nonterminal (left regular). These generate the same languages. However, if left-regular rules and right-regular rules are combined, the language need no longer be regular. The ruleS→ε{\\\\displaystyle S\\\\rightarrow \\\\varepsilon }is also allowed here ifS{\\\\displaystyle S}does not appear on the right side of any rule. These languages are exactly all languages that can be decided by afinite-state automaton. Additionally, this family of formal languages can be obtained byregular expressions. Regular languages are commonly used to define search patterns and the lexical structure of programming languages.',\n",
              " 'For example, the regular languageL={an|n>0}{\\\\displaystyle L=\\\\{a^{n}|n>0\\\\}}is generated by the Type-3 grammarG=({S},{a,b},P,S){\\\\displaystyle G=(\\\\{S\\\\},\\\\{a,b\\\\},P,S)}with the productionsP{\\\\displaystyle P}being the following.',\n",
              " 'Type-2 grammars generate thecontext-free languages. These are defined by rules of the formA→α{\\\\displaystyle A\\\\rightarrow \\\\alpha }withA{\\\\displaystyle A}being a nonterminal andα{\\\\displaystyle \\\\alpha }being a string of terminals and/or nonterminals. These languages are exactly all languages that can be recognized by a non-deterministicpushdown automaton. Context-free languages—or rather its subset ofdeterministic context-free languages—are the theoretical basis for the phrase structure of mostprogramming languages, though their syntax also includes context-sensitivename resolutiondue to declarations andscope. Often a subset of grammars is used to make parsing easier, such as by anLL parser.',\n",
              " 'For example, the context-free languageL={anbn|n>0}{\\\\displaystyle L=\\\\{a^{n}b^{n}|n>0\\\\}}is generated by the Type-2 grammarG=({S},{a,b},P,S){\\\\displaystyle G=(\\\\{S\\\\},\\\\{a,b\\\\},P,S)}with the productionsP{\\\\displaystyle P}being the following.',\n",
              " 'The language is context-free but not regular (by thepumping lemma for regular languages).',\n",
              " 'Type-1 grammars generatecontext-sensitive languages. These grammars have rules of the formαAβ→αγβ{\\\\displaystyle \\\\alpha A\\\\beta \\\\rightarrow \\\\alpha \\\\gamma \\\\beta }withA{\\\\displaystyle A}a nonterminal andα{\\\\displaystyle \\\\alpha },β{\\\\displaystyle \\\\beta }andγ{\\\\displaystyle \\\\gamma }strings of terminals and/or nonterminals. The stringsα{\\\\displaystyle \\\\alpha }andβ{\\\\displaystyle \\\\beta }may be empty, butγ{\\\\displaystyle \\\\gamma }must be nonempty.  The ruleS→ϵ{\\\\displaystyle S\\\\rightarrow \\\\epsilon }is allowed ifS{\\\\displaystyle S}does not appear on the right side of any rule.  The languages described by these grammars are exactly all languages that can be recognized by alinear bounded automaton(a nondeterministic Turing machine whose tape is bounded by a constant times the length of the input.)',\n",
              " 'For example, the context-sensitive languageL={anbncn|n>0}{\\\\displaystyle L=\\\\{a^{n}b^{n}c^{n}|n>0\\\\}}is generated by the Type-1 grammarG=({S,A,B,C,W,Z},{a,b},P,S){\\\\displaystyle G=(\\\\{S,A,B,C,W,Z\\\\},\\\\{a,b\\\\},P,S)}with the productionsP{\\\\displaystyle P}being the following.',\n",
              " 'The language is context-sensitive but not context-free (by thepumping lemma for context-free languages).\\nA proof that this grammar generatesL={anbncn|n>0}{\\\\displaystyle L=\\\\{a^{n}b^{n}c^{n}|n>0\\\\}}is sketched in the article onContext-sensitive grammars.',\n",
              " 'Type-0 grammars include all formal grammars. There are no constraints on the productions rules. They generate exactly all languages that can be recognized by aTuring machine, thus any language that is possible to be generated can be generated by a Type-0 grammar.[8]These languages are also known as therecursively enumerableorTuring-recognizablelanguages.[8]Note that this is different from therecursive languages, which can bedecidedby analways-halting Turing machine.']"
            ]
          },
          "metadata": {},
          "execution_count": 18
        }
      ]
    },
    {
      "cell_type": "code",
      "source": [
        "'''\n",
        "Проверяем функцию для скрейпинга: пример 2\n",
        "'''\n",
        "def scrape_text_from_url(url, tag, class_=None):\n",
        "  headers = {\"User-Agent\": \"Mozilla/5.0 (Windows NT 10.0; Win64; x64) AppleWebKit/537.36 (KHTML, like Gecko) Chrome/91.0.4472.124 Safari/537.36\"}\n",
        "  response = requests.get(url, headers=headers)\n",
        "  if response.status_code == 200: ### если запрос успешный (возвращается значение 200) ###\n",
        "      soup = BeautifulSoup(response.text, 'html.parser') ### парсим контент или текст с помощью BeautifulSoup html.parser ###\n",
        "      paragraphs = soup.find_all(tag, class_) # ищем теги и классы на основании аргументов функции; по умолчанию ищем только тег\n",
        "      text = [] ### создаем переменную text строкового типа, куда мы запишем все найденные совпадения ###\n",
        "      for p in paragraphs: ### начинаем перебор элементов переменной paragraphs ###\n",
        "        text.append(p.get_text(strip=True)) # извлекаем текстовые данные\n",
        "      return text\n",
        "  else: ### иначе ###\n",
        "      print(f\"{response.status_code} Error\") ### выводим статус-код и сообщение об ошибке ###\n",
        "      return []\n",
        "scrape_text_from_url('https://www.rottentomatoes.com/m/civil_war_2024/reviews', 'p', 'review-text')"
      ],
      "metadata": {
        "colab": {
          "base_uri": "https://localhost:8080/"
        },
        "id": "tz6rp1Gsfi2K",
        "outputId": "6409f8f1-d5a1-4b51-ba55-9e0ffd018b0b"
      },
      "execution_count": 19,
      "outputs": [
        {
          "output_type": "execute_result",
          "data": {
            "text/plain": [
              "['Civil War is not a film about why extreme division happens; it’s about the personal impact of division at its worst.',\n",
              " 'A staggering and frequently brilliant film looking at a hopefully just fictionalized version of America destroying itself from within.',\n",
              " 'Garland seems poised to be make political points, to show how our current political dysfunction could lead to something far worse… but he never follows through.',\n",
              " 'This violent tale of anaesthetised reporters is just a war yarn with a twist.',\n",
              " 'This easy digital fakeness is there to get the audience used to it...',\n",
              " 'Rather than glorifying war, the film is artful and meditative, making us feel the pointlessness of this violence, how unglamorous and exhausting and unheroic it is.',\n",
              " 'It’s not always subtle, and in some cases it’s even frustrating with some of its narrative decisions, but nothing can deny its uncanny ability to leave you horrified by how war, civil or otherwise, can be truly monstrous from any humanist angle.',\n",
              " 'The film isn’t very deep, but it does paint the grimmest picture possible of a divided nation with bodies bodies bodies everywhere.',\n",
              " 'With a career best performance from Kirsten Dunst and a pulsating sound design, Civil War is a thrilling body of work that should be talked about in journalism circles.',\n",
              " \"Garland's decision to forego any narrative antecedent makes the predictable ending that much more of a bummer. Civil War is a more muscular film than Men. Like that movie, however, it mistakes broad brush strokes for insight.\",\n",
              " 'Audiences expecting a meticulously-crafted backstory for how this war started and who the players are will be sorely disappointed.',\n",
              " \"This is another war-is-awful movie, tracing the experiences of a team of photojournalists who throw themselves into the firing line. And even without much of a point, it's rivetingly well-made.\",\n",
              " 'Garland uses violence as a means to a much larger end that should leave moviegoers disturbed and, at times, sickened; that should leave us challenged to think rather than feeling any kind of welcome catharsis. The final shot ... is stunning in its irony.',\n",
              " 'The film seems caught between wanting to be exciting and devastating, as it threatens to turn its captivating story into another generic shoot-them-up war film, just on a grander scale.',\n",
              " 'Civil War is not a polemic, but it is a mirror to the USA’s political crisis.',\n",
              " 'If beauty is the sole standard for their work, then the film’s view of war photography is as an aesthetic death cult.',\n",
              " 'Garland appears to make movies less for audiences than as think pieces, and, given the esteem in which his films are held, the ploy has paid off handsomely.',\n",
              " 'An urgent film about a barely-distant future.',\n",
              " 'There’s a cautionary message then in the madness: stop or perish; the choice is entirely ours.',\n",
              " 'Civil War is a reflection of what you bring to it. That puts the impetus on the viewer to meet the film on its level. Some won’t like what they find. The nature of that discussion is what will ultimately make this film immortal.']"
            ]
          },
          "metadata": {},
          "execution_count": 19
        }
      ]
    },
    {
      "cell_type": "markdown",
      "source": [
        "**Задание 2**\n",
        "Написать функцию для сентимент-анализа"
      ],
      "metadata": {
        "id": "4yAvz7QEb8yh"
      }
    },
    {
      "cell_type": "code",
      "source": [
        "'''\n",
        "Загружаем списки слов с положительным и отрицательным значением\n",
        "'''\n",
        "\n",
        "!wget https://raw.githubusercontent.com/vifirsanova/hse-python-course/main/data/neg.txt\n",
        "!wget https://raw.githubusercontent.com/vifirsanova/hse-python-course/main/data/pos.txt\n",
        "\n",
        "with open('neg.txt') as f:\n",
        "  neg = f.read()\n",
        "\n",
        "with open('pos.txt') as f:\n",
        "  pos = f.read()"
      ],
      "metadata": {
        "colab": {
          "base_uri": "https://localhost:8080/"
        },
        "id": "AVqGhbkssw0m",
        "outputId": "a35f4266-7531-4806-a829-ce6917f51fa7"
      },
      "execution_count": 20,
      "outputs": [
        {
          "output_type": "stream",
          "name": "stdout",
          "text": [
            "--2024-12-13 20:35:42--  https://raw.githubusercontent.com/vifirsanova/hse-python-course/main/data/neg.txt\n",
            "Resolving raw.githubusercontent.com (raw.githubusercontent.com)... 185.199.108.133, 185.199.109.133, 185.199.110.133, ...\n",
            "Connecting to raw.githubusercontent.com (raw.githubusercontent.com)|185.199.108.133|:443... connected.\n",
            "HTTP request sent, awaiting response... 200 OK\n",
            "Length: 44759 (44K) [text/plain]\n",
            "Saving to: ‘neg.txt’\n",
            "\n",
            "\rneg.txt               0%[                    ]       0  --.-KB/s               \rneg.txt             100%[===================>]  43.71K  --.-KB/s    in 0.004s  \n",
            "\n",
            "2024-12-13 20:35:42 (11.7 MB/s) - ‘neg.txt’ saved [44759/44759]\n",
            "\n",
            "--2024-12-13 20:35:43--  https://raw.githubusercontent.com/vifirsanova/hse-python-course/main/data/pos.txt\n",
            "Resolving raw.githubusercontent.com (raw.githubusercontent.com)... 185.199.108.133, 185.199.109.133, 185.199.110.133, ...\n",
            "Connecting to raw.githubusercontent.com (raw.githubusercontent.com)|185.199.108.133|:443... connected.\n",
            "HTTP request sent, awaiting response... 200 OK\n",
            "Length: 19093 (19K) [text/plain]\n",
            "Saving to: ‘pos.txt’\n",
            "\n",
            "pos.txt             100%[===================>]  18.65K  --.-KB/s    in 0s      \n",
            "\n",
            "2024-12-13 20:35:43 (40.1 MB/s) - ‘pos.txt’ saved [19093/19093]\n",
            "\n"
          ]
        }
      ]
    },
    {
      "cell_type": "code",
      "source": [
        "'''\n",
        "Создайте списки слов, разделив строку по знаку \\n\n",
        "'''\n",
        "\n",
        "pos_list, neg_list = pos.split(), neg.split() ### ваш код здесь ###\n",
        "\n",
        "pos_list[:10]"
      ],
      "metadata": {
        "colab": {
          "base_uri": "https://localhost:8080/"
        },
        "id": "vquXeXlDvG_Z",
        "outputId": "9684b740-03bd-4b09-b238-9c8788ecbbfd"
      },
      "execution_count": 23,
      "outputs": [
        {
          "output_type": "execute_result",
          "data": {
            "text/plain": [
              "['a+',\n",
              " 'abound',\n",
              " 'abounds',\n",
              " 'abundance',\n",
              " 'abundant',\n",
              " 'accessable',\n",
              " 'accessible',\n",
              " 'acclaim',\n",
              " 'acclaimed',\n",
              " 'acclamation']"
            ]
          },
          "metadata": {},
          "execution_count": 23
        }
      ]
    },
    {
      "cell_type": "code",
      "source": [
        "'''\n",
        "Допишите функцию для анализа тональности\n",
        "Функция принимает на вход 3 аргумента:\n",
        "  - переменную text с текстов для анализа\n",
        "  - 2 списка со словами для анализа тональности: positive_words и negative_words\n",
        "'''\n",
        "!wget https://raw.githubusercontent.com/vifirsanova/hse-python-course/main/data/stopwords.txt\n",
        "\n",
        "def analyze_sentiment(text, positive_words, negative_words): ### ваш код здесь ###\n",
        "    lower_text = text.lower()\n",
        "    split_text = lower_text.split() ### Ваш код здесь: приведите текст к нижнему регистру и поделите его на слова ###\n",
        "    ### По желанию: удалить стоп-слова и знаки препинания; использовать NLP-библиотеки для токенизации ###\n",
        "    with open('stopwords.txt', 'r') as f:\n",
        "      stopwords = f.read().split()\n",
        "    clean_text = []\n",
        "    for token in split_text:\n",
        "      if token not in stopwords:  # проверяем отсутствие токена в списке стоп-слов\n",
        "        clean_text.append(token)  # добавляем токен в новый очищенный список токенов, если его нет в стоп-словах\n",
        "    words = clean_text ### Важно: запишите результат в переменную words ###\n",
        "\n",
        "    # Считаем скор тональности: количество пересечений между списками words и положительными / отрицательными словами\n",
        "    positive_count = sum(1 for word in words if word in positive_words)\n",
        "    negative_count = sum(1 for word in words if word in negative_words)\n",
        "\n",
        "    if positive_count > negative_count:\n",
        "        sentiment = \"Positive\"\n",
        "    elif positive_count < negative_count:\n",
        "        sentiment = \"Negative\"\n",
        "    else:\n",
        "        sentiment = \"Neutral\"\n",
        "\n",
        "    return sentiment\n",
        "     ### Ваш код здесь: если положительный скор больше отрицательного, возвращаем строчку 'positive' ###\n",
        "    ### Ваш код здесь: если отрицательный скор больше положительного, возвращаем строчку 'negative' ###\n",
        "    ### Иначе возвращаем строчку 'neutral' ###"
      ],
      "metadata": {
        "id": "oZ7AmEM1vlL4"
      },
      "execution_count": null,
      "outputs": []
    },
    {
      "cell_type": "code",
      "source": [
        "!wget https://raw.githubusercontent.com/vifirsanova/hse-python-course/main/data/stopwords.txt -q"
      ],
      "metadata": {
        "id": "vLrYhBHv1eJI"
      },
      "execution_count": 26,
      "outputs": []
    },
    {
      "cell_type": "code",
      "source": [
        "'''\n",
        "Проверяем функцию для анализа тональности: пример 1\n",
        "'''\n",
        "def analyze_sentiment(text, positive_words, negative_words): ### ваш код здесь ###\n",
        "    lower_text = text.lower()\n",
        "    split_text = lower_text.split() ### Ваш код здесь: приведите текст к нижнему регистру и поделите его на слова ###\n",
        "    ### По желанию: удалить стоп-слова и знаки препинания; использовать NLP-библиотеки для токенизации ###\n",
        "    with open('stopwords.txt', 'r') as f:\n",
        "      stopwords = f.read().split()\n",
        "    clean_text = []\n",
        "    for token in split_text:\n",
        "      if token not in stopwords:  # проверяем отсутствие токена в списке стоп-слов\n",
        "        clean_text.append(token)  # добавляем токен в новый очищенный список токенов, если его нет в стоп-словах\n",
        "    words = clean_text ### Важно: запишите результат в переменную words ###\n",
        "\n",
        "    # Считаем скор тональности: количество пересечений между списками words и положительными / отрицательными словами\n",
        "    positive_count = sum(1 for word in words if word in positive_words)\n",
        "    negative_count = sum(1 for word in words if word in negative_words)\n",
        "\n",
        "    if positive_count > negative_count:\n",
        "        sentiment = \"Positive\"\n",
        "    elif positive_count < negative_count:\n",
        "        sentiment = \"Negative\"\n",
        "    else:\n",
        "        sentiment = \"Neutral\"\n",
        "    return(sentiment)\n",
        "\n",
        "analyze_sentiment('This sample text is awesome!', pos_list, neg_list)"
      ],
      "metadata": {
        "colab": {
          "base_uri": "https://localhost:8080/",
          "height": 36
        },
        "id": "Y31yIOJ6xXS_",
        "outputId": "cb2d1e84-e054-4af6-8790-df22a1a3b777"
      },
      "execution_count": 31,
      "outputs": [
        {
          "output_type": "execute_result",
          "data": {
            "text/plain": [
              "'Neutral'"
            ],
            "application/vnd.google.colaboratory.intrinsic+json": {
              "type": "string"
            }
          },
          "metadata": {},
          "execution_count": 31
        }
      ]
    },
    {
      "cell_type": "code",
      "source": [
        "'''\n",
        "Проверяем функцию для анализа тональности: пример 2\n",
        "'''\n",
        "def analyze_sentiment(text, positive_words, negative_words): ### ваш код здесь ###\n",
        "    lower_text = text.lower()\n",
        "    split_text = lower_text.split() ### Ваш код здесь: приведите текст к нижнему регистру и поделите его на слова ###\n",
        "    ### По желанию: удалить стоп-слова и знаки препинания; использовать NLP-библиотеки для токенизации ###\n",
        "    with open('stopwords.txt', 'r') as f:\n",
        "      stopwords = f.read().split()\n",
        "    clean_text = []\n",
        "    for token in split_text:\n",
        "      if token not in stopwords:  # проверяем отсутствие токена в списке стоп-слов\n",
        "        clean_text.append(token)  # добавляем токен в новый очищенный список токенов, если его нет в стоп-словах\n",
        "    words = clean_text ### Важно: запишите результат в переменную words ###\n",
        "\n",
        "    # Считаем скор тональности: количество пересечений между списками words и положительными / отрицательными словами\n",
        "    positive_count = sum(1 for word in words if word in positive_words)\n",
        "    negative_count = sum(1 for word in words if word in negative_words)\n",
        "\n",
        "    if positive_count > negative_count:\n",
        "        sentiment = \"Positive\"\n",
        "    elif positive_count < negative_count:\n",
        "        sentiment = \"Negative\"\n",
        "    else:\n",
        "        sentiment = \"Neutral\"\n",
        "    return(sentiment)\n",
        "\n",
        "analyze_sentiment('I hate this sample text.', pos_list, neg_list)"
      ],
      "metadata": {
        "colab": {
          "base_uri": "https://localhost:8080/",
          "height": 36
        },
        "id": "r1ubjl49x1qX",
        "outputId": "cb919295-7091-4c7c-b5e4-4f1988fd29cf"
      },
      "execution_count": 29,
      "outputs": [
        {
          "output_type": "execute_result",
          "data": {
            "text/plain": [
              "'Negative'"
            ],
            "application/vnd.google.colaboratory.intrinsic+json": {
              "type": "string"
            }
          },
          "metadata": {},
          "execution_count": 29
        }
      ]
    },
    {
      "cell_type": "code",
      "source": [
        "'''\n",
        "Проверяем функцию для анализа тональности: пример 3\n",
        "'''\n",
        "def analyze_sentiment(text, positive_words, negative_words): ### ваш код здесь ###\n",
        "    lower_text = text.lower()\n",
        "    split_text = lower_text.split() ### Ваш код здесь: приведите текст к нижнему регистру и поделите его на слова ###\n",
        "    ### По желанию: удалить стоп-слова и знаки препинания; использовать NLP-библиотеки для токенизации ###\n",
        "    with open('stopwords.txt', 'r') as f:\n",
        "      stopwords = f.read().split()\n",
        "    clean_text = []\n",
        "    for token in split_text:\n",
        "      if token not in stopwords:  # проверяем отсутствие токена в списке стоп-слов\n",
        "        clean_text.append(token)  # добавляем токен в новый очищенный список токенов, если его нет в стоп-словах\n",
        "    words = clean_text ### Важно: запишите результат в переменную words ###\n",
        "\n",
        "    # Считаем скор тональности: количество пересечений между списками words и положительными / отрицательными словами\n",
        "    positive_count = sum(1 for word in words if word in positive_words)\n",
        "    negative_count = sum(1 for word in words if word in negative_words)\n",
        "\n",
        "    if positive_count > negative_count:\n",
        "        sentiment = \"Positive\"\n",
        "    elif positive_count < negative_count:\n",
        "        sentiment = \"Negative\"\n",
        "    else:\n",
        "        sentiment = \"Neutral\"\n",
        "    return(sentiment)\n",
        "analyze_sentiment('We love and hate this sample text at the same time!', pos_list, neg_list)"
      ],
      "metadata": {
        "colab": {
          "base_uri": "https://localhost:8080/",
          "height": 36
        },
        "id": "lh7-EgSYx7vb",
        "outputId": "25436d72-68fb-4bb8-a41c-68821b3c4477"
      },
      "execution_count": 30,
      "outputs": [
        {
          "output_type": "execute_result",
          "data": {
            "text/plain": [
              "'Neutral'"
            ],
            "application/vnd.google.colaboratory.intrinsic+json": {
              "type": "string"
            }
          },
          "metadata": {},
          "execution_count": 30
        }
      ]
    },
    {
      "cell_type": "markdown",
      "source": [
        "**Задача 3**\n",
        "\n",
        "Написать функцию для вывода сентимент-скоров"
      ],
      "metadata": {
        "id": "pQe6yWNicClB"
      }
    },
    {
      "cell_type": "code",
      "source": [
        "'''\n",
        "Допишите функцию для вывода скоров по заданному URL\n",
        "'''\n",
        "\n",
        "def analyze(positive_words, negative_words, url, tag, class_= None):\n",
        "  scraped_text = scrape_text_from_url(url, tag, class_) ### ваш код здесь: примените функцию scrape_text_from_url ###\n",
        "  full_text = \" \".join(scraped_text)\n",
        "  sentences = full_text.split('.')\n",
        "  sentiments = [] ### ваш код здесь: создаем пустой список, куда запишем скоры ###\n",
        "  for sentence in sentences: ### ваш код здесь: начинаем перебор по предложениям ###\n",
        "    score = analyze_sentiment(sentence, positive_words, negative_words) ### ваш код здесь: получаем скор для данного предложения с помощью функции analyze_sentiment ###\n",
        "    sentiments.append(score) ### ваш код здесь: добавляем скор в созданный список ###\n",
        "  return(sentiments) ### ваш код здесь: возвращаем список скоров ###"
      ],
      "metadata": {
        "id": "2x1O80L70uDG"
      },
      "execution_count": null,
      "outputs": []
    },
    {
      "cell_type": "code",
      "source": [
        "'''\n",
        "Тест 1\n",
        "'''\n",
        "def analyze(positive_words, negative_words, url, tag, class_= None):\n",
        "  scraped_text = scrape_text_from_url(url, tag, class_) ### ваш код здесь: примените функцию scrape_text_from_url ###\n",
        "  full_text = \" \".join(scraped_text)\n",
        "  sentences = full_text.split('.')\n",
        "  sentiments = [] ### ваш код здесь: создаем пустой список, куда запишем скоры ###\n",
        "  for sentence in sentences: ### ваш код здесь: начинаем перебор по предложениям ###\n",
        "    score = analyze_sentiment(sentence, positive_words, negative_words) ### ваш код здесь: получаем скор для данного предложения с помощью функции analyze_sentiment ###\n",
        "    sentiments.append(score) ### ваш код здесь: добавляем скор в созданный список ###\n",
        "  return(sentiments) ### ваш код здесь: возвращаем список скоров ###\n",
        "analyze(url='https://en.wikipedia.org/wiki/Chomsky_hierarchy', tag='p', positive_words=pos, negative_words=neg)[:10]"
      ],
      "metadata": {
        "colab": {
          "base_uri": "https://localhost:8080/"
        },
        "id": "kc2UL_222Mle",
        "outputId": "5fd7b9e9-81c8-4e68-af2d-8e53a7596a25"
      },
      "execution_count": 34,
      "outputs": [
        {
          "output_type": "execute_result",
          "data": {
            "text/plain": [
              "['Neutral',\n",
              " 'Negative',\n",
              " 'Negative',\n",
              " 'Negative',\n",
              " 'Positive',\n",
              " 'Positive',\n",
              " 'Neutral',\n",
              " 'Neutral',\n",
              " 'Negative',\n",
              " 'Negative']"
            ]
          },
          "metadata": {},
          "execution_count": 34
        }
      ]
    },
    {
      "cell_type": "code",
      "source": [
        "'''\n",
        "Тест 2\n",
        "'''\n",
        "def analyze(positive_words, negative_words, url, tag, class_= None):\n",
        "  scraped_text = scrape_text_from_url(url, tag, class_) ### ваш код здесь: примените функцию scrape_text_from_url ###\n",
        "  full_text = \" \".join(scraped_text)\n",
        "  sentences = full_text.split('.')\n",
        "  sentiments = [] ### ваш код здесь: создаем пустой список, куда запишем скоры ###\n",
        "  for sentence in sentences: ### ваш код здесь: начинаем перебор по предложениям ###\n",
        "    score = analyze_sentiment(sentence, positive_words, negative_words) ### ваш код здесь: получаем скор для данного предложения с помощью функции analyze_sentiment ###\n",
        "    sentiments.append(score) ### ваш код здесь: добавляем скор в созданный список ###\n",
        "  return(sentiments) ### ваш код здесь: возвращаем список скоров ###\n",
        "analyze(url='https://www.rottentomatoes.com/m/civil_war_2024/reviews', tag='p', class_='review-text', positive_words=pos, negative_words=neg)[:10]"
      ],
      "metadata": {
        "colab": {
          "base_uri": "https://localhost:8080/"
        },
        "id": "C9XzHV953Aux",
        "outputId": "8630cdf0-d786-4840-c113-89b6a9819200"
      },
      "execution_count": 35,
      "outputs": [
        {
          "output_type": "execute_result",
          "data": {
            "text/plain": [
              "['Negative',\n",
              " 'Neutral',\n",
              " 'Negative',\n",
              " 'Negative',\n",
              " 'Negative',\n",
              " 'Neutral',\n",
              " 'Neutral',\n",
              " 'Negative',\n",
              " 'Negative',\n",
              " 'Neutral']"
            ]
          },
          "metadata": {},
          "execution_count": 35
        }
      ]
    },
    {
      "cell_type": "markdown",
      "source": [
        "**Задача 4**\n",
        "\n",
        "Визуализировать результаты анализа"
      ],
      "metadata": {
        "id": "-IkiyB5ldbt9"
      }
    },
    {
      "cell_type": "code",
      "execution_count": 52,
      "metadata": {
        "colab": {
          "base_uri": "https://localhost:8080/"
        },
        "id": "zqEXVu-VZcUG",
        "outputId": "5c161039-c34b-4254-8b8e-26d09d264d25"
      },
      "outputs": [
        {
          "output_type": "execute_result",
          "data": {
            "text/plain": [
              "Counter({'Neutral': 116, 'Negative': 109, 'Positive': 64})"
            ]
          },
          "metadata": {},
          "execution_count": 52
        }
      ],
      "source": [
        "'''\n",
        "Создаем частотный словарь с помощью библиотеки Counter.\n",
        "Можно выбрать другие веб-страницы для анализа!\n",
        "'''\n",
        "\n",
        "from collections import Counter\n",
        "\n",
        "sample1 = Counter(analyze(url='https://en.wikipedia.org/wiki/Capybara', tag='p', positive_words=pos, negative_words=neg))\n",
        "sample2 = Counter(analyze(url='https://en.wikipedia.org/wiki/Red_Dead_Redemption', tag='p', positive_words=pos, negative_words=neg))\n",
        "\n",
        "sample1\n",
        "sample2"
      ]
    },
    {
      "cell_type": "code",
      "source": [
        "'''\n",
        "Создаем визуализацию: попробуйте использование новые данные (данные других url)\n",
        "'''\n",
        "\n",
        "import numpy as np\n",
        "import pandas as pd\n",
        "import matplotlib.pyplot as plt\n",
        "\n",
        "df1 = pd.DataFrame.from_dict(sample1, orient='index', columns=['Capybaras'])\n",
        "df2 = pd.DataFrame.from_dict(sample2, orient='index', columns=['Red dead Redemption'])\n",
        "\n",
        "fig, ax = plt.subplots(ncols=2)\n",
        "\n",
        "ax[0] = df1.plot.bar(ax=ax[0])\n",
        "ax[1] = df2.plot.bar(ax=ax[1], color='orange')"
      ],
      "metadata": {
        "colab": {
          "base_uri": "https://localhost:8080/",
          "height": 478
        },
        "id": "1BIF0uT84bKN",
        "outputId": "0685ca89-f7e5-479f-bb65-460dfb9b65c6"
      },
      "execution_count": 54,
      "outputs": [
        {
          "output_type": "display_data",
          "data": {
            "text/plain": [
              "<Figure size 640x480 with 2 Axes>"
            ],
            "image/png": "[encoded data removed]"
          },
          "metadata": {}
        }
      ]
    },
    {
      "cell_type": "markdown",
      "source": [
        "**Задача 5**\n",
        "\n",
        "Соберите все 3 функции в одной ячейке ниже. Проанализируйте получшившийся код. Сделайте ревью!\n",
        "\n",
        "Попробуйте сделать **рефакторинг**: найти повторы в коде, избыточные конструкции и заменить их на более простые и питоничные решения. Рефакторинг ускоряет выполнение кода и упрощает его чтение.\n",
        "\n",
        "Улучшите код, добавьте строчки для вывода промежуточных и итоговых результатов; запустите ячейку.\n",
        "\n",
        "Это творческое задание, правильных решений нет - главное, чтобы код работал! :)\n",
        "\n",
        "Не забудьте закомментировать свои изменения."
      ],
      "metadata": {
        "id": "Y2SS-kAkcZcW"
      }
    },
    {
      "cell_type": "code",
      "source": [
        "### №1\n",
        "def scrape_text_from_url(url, tag, class_=None):\n",
        "  headers = {\"User-Agent\": \"Mozilla/5.0 (Windows NT 10.0; Win64; x64) AppleWebKit/537.36 (KHTML, like Gecko) Chrome/91.0.4472.124 Safari/537.36\"}\n",
        "  response = requests.get(url, headers=headers)\n",
        "  if response.status_code == 200:\n",
        "    soup = BeautifulSoup(response.text, 'html.parser')\n",
        "    paragraphs = soup.find_all(tag, class_)\n",
        "    text = []\n",
        "    for p in paragraphs:\n",
        "      text.append(p.get_text(strip=True))\n",
        "    return text\n",
        "  else:\n",
        "      print(f\"{response.status_code} Error\")\n",
        "      return []\n",
        "\n",
        "### review\n",
        "### строки 8-10 можно сократить с помощью list comprehension:\n",
        "### text = [p.get_text(strip=True) for p in paragraphs]\n",
        "### добавим промежуточный вывод результатов после строки 5\n",
        "### print(f\"Статус запроса: {response.status_code} - ответ получен\"\n",
        "\n",
        "### новая версия\n",
        "def scrape_text_from_url(url, tag, class_=None):\n",
        "  headers = {\"User-Agent\": \"Mozilla/5.0 (Windows NT 10.0; Win64; x64) AppleWebKit/537.36 (KHTML, like Gecko) Chrome/91.0.4472.124 Safari/537.36\"}\n",
        "  response = requests.get(url, headers=headers)\n",
        "  if response.status_code == 200:\n",
        "    print(f\"Статус запроса: {response.status_code} - ответ получен\")\n",
        "    soup = BeautifulSoup(response.text, 'html.parser')\n",
        "    paragraphs = soup.find_all(tag, class_)\n",
        "    text = [p.get_text(strip=True) for p in paragraphs]\n",
        "    return text\n",
        "  else:\n",
        "      print(f\"{response.status_code} Error\")\n",
        "      return []\n",
        ""
      ],
      "metadata": {
        "id": "mU0kfLfvbq0-"
      },
      "execution_count": 56,
      "outputs": []
    },
    {
      "cell_type": "code",
      "source": [
        "def scrape_text_from_url(url, tag, class_=None):\n",
        "  headers = {\"User-Agent\": \"Mozilla/5.0 (Windows NT 10.0; Win64; x64) AppleWebKit/537.36 (KHTML, like Gecko) Chrome/91.0.4472.124 Safari/537.36\"}\n",
        "  response = requests.get(url, headers=headers)\n",
        "  if response.status_code == 200:\n",
        "    print(f\"Статус запроса: {response.status_code} - ответ получен\")\n",
        "    soup = BeautifulSoup(response.text, 'html.parser')\n",
        "    paragraphs = soup.find_all(tag, class_)\n",
        "    text = [p.get_text(strip=True) for p in paragraphs]\n",
        "    return text\n",
        "  else:\n",
        "      print(f\"{response.status_code} Error\")\n",
        "      return []"
      ],
      "metadata": {
        "id": "09FVY12VAjFV"
      },
      "execution_count": 69,
      "outputs": []
    },
    {
      "cell_type": "code",
      "source": [
        "### №2\n",
        "def analyze_sentiment(text, positive_words, negative_words): ### ваш код здесь ###\n",
        "    lower_text = text.lower()\n",
        "    split_text = lower_text.split()\n",
        "    with open('stopwords.txt', 'r') as f:\n",
        "      stopwords = f.read().split()\n",
        "    clean_text = []\n",
        "    for token in split_text:\n",
        "      if token not in stopwords:\n",
        "        clean_text.append(token)\n",
        "    words = clean_text\n",
        "    positive_count = sum(1 for word in words if word in positive_words)\n",
        "    negative_count = sum(1 for word in words if word in negative_words)\n",
        "\n",
        "    if positive_count > negative_count:\n",
        "        sentiment = \"Positive\"\n",
        "    elif positive_count < negative_count:\n",
        "        sentiment = \"Negative\"\n",
        "    else:\n",
        "        sentiment = \"Neutral\"\n",
        "    return(sentiment)\n",
        "\n",
        "### review\n",
        "### в строках 7-11 применим list comprehension\n",
        "### clean_text = [token for token in split_text if token not in stopwords\n",
        "### выведем промежуточный результат для clean_text\n",
        "### print(f\"Чистый текст: {clean_text[:10]}...\")\n",
        "\n",
        "### новая версия\n",
        "def analyze_sentiment(text, positive_words, negative_words): ### ваш код здесь ###\n",
        "    lower_text = text.lower()\n",
        "    split_text = lower_text.split()\n",
        "    with open('stopwords.txt', 'r') as f:\n",
        "      stopwords = f.read().split()\n",
        "    clean_text = [token for token in split_text if token not in stopwords]\n",
        "    positive_count = sum(1 for word in words if word in positive_words)\n",
        "    negative_count = sum(1 for word in words if word in negative_words)\n",
        "\n",
        "    print(f\"Чистый текст: {clean_text[:10]}\")\n",
        "\n",
        "    if positive_count > negative_count:\n",
        "        sentiment = \"Positive\"\n",
        "    elif positive_count < negative_count:\n",
        "        sentiment = \"Negative\"\n",
        "    else:\n",
        "        sentiment = \"Neutral\"\n",
        "    return(sentiment)"
      ],
      "metadata": {
        "id": "G79cUlxw6jna"
      },
      "execution_count": 62,
      "outputs": []
    },
    {
      "cell_type": "code",
      "source": [
        "def analyze_sentiment(text, positive_words, negative_words): ### ваш код здесь ###\n",
        "    lower_text = text.lower()\n",
        "    split_text = lower_text.split()\n",
        "    with open('stopwords.txt', 'r') as f:\n",
        "      stopwords = f.read().split()\n",
        "    clean_text = [token for token in split_text if token not in stopwords]\n",
        "    positive_count = sum(1 for word in words if word in positive_words)\n",
        "    negative_count = sum(1 for word in words if word in negative_words)\n",
        "\n",
        "    print(f\"Чистый текст: {clean_text[:10]}\")\n",
        "\n",
        "    if positive_count > negative_count:\n",
        "        sentiment = \"Positive\"\n",
        "    elif positive_count < negative_count:\n",
        "        sentiment = \"Negative\"\n",
        "    else:\n",
        "        sentiment = \"Neutral\"\n",
        "    return(sentiment)"
      ],
      "metadata": {
        "id": "bu54Og0rAfAb"
      },
      "execution_count": 67,
      "outputs": []
    },
    {
      "cell_type": "code",
      "source": [
        "### №3\n",
        "def analyze(positive_words, negative_words, url, tag, class_= None):\n",
        "  scraped_text = scrape_text_from_url(url, tag, class_)\n",
        "  full_text = \" \".join(scraped_text)\n",
        "  sentences = full_text.split('.')\n",
        "  sentiments = []\n",
        "  for sentence in sentences:\n",
        "    score = analyze_sentiment(sentence, positive_words, negative_words)\n",
        "    sentiments.append(score)\n",
        "  return(sentiments)\n",
        "\n",
        "  ### review\n",
        "  ### применим list comprehension\n",
        "  ### sentiments = [analyze_sentiment(sentence, positive_words, negative_words) for sentence in sentences]\n",
        "  ### напечатаем первые 200 символов текста для примера\n",
        "  ###   print(f\"Обработанный текст: {full_text[:100]}\")\n",
        "\n",
        "  ### новая версия\n",
        "def analyze(positive_words, negative_words, url, tag, class_= None):\n",
        "  scraped_text = scrape_text_from_url(url, tag, class_)\n",
        "  full_text = \" \".join(scraped_text)\n",
        "  sentences = full_text.split('.')\n",
        "  sentiments = [analyze_sentiment(sentence, positive_words, negative_words) for sentence in sentences]\n",
        "  print(f\"Обработанный текст: {full_text[:100]}\")\n",
        "  return(sentiments)"
      ],
      "metadata": {
        "id": "_aeZJxfo7zov"
      },
      "execution_count": 65,
      "outputs": []
    },
    {
      "cell_type": "code",
      "source": [
        "def analyze(positive_words, negative_words, url, tag, class_= None):\n",
        "  scraped_text = scrape_text_from_url(url, tag, class_)\n",
        "  full_text = \" \".join(scraped_text)\n",
        "  sentences = full_text.split('.')\n",
        "  sentiments = [analyze_sentiment(sentence, positive_words, negative_words) for sentence in sentences]\n",
        "  print(f\"Обработанный текст: {full_text[:100]}\")\n",
        "  return(sentiments)"
      ],
      "metadata": {
        "id": "AYvTpxa6AcJH"
      },
      "execution_count": 66,
      "outputs": []
    }
  ]
}